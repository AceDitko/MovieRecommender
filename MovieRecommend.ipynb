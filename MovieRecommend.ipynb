{
 "metadata": {
  "language_info": {
   "codemirror_mode": {
    "name": "ipython",
    "version": 3
   },
   "file_extension": ".py",
   "mimetype": "text/x-python",
   "name": "python",
   "nbconvert_exporter": "python",
   "pygments_lexer": "ipython3",
   "version": "3.8.5"
  },
  "orig_nbformat": 2,
  "kernelspec": {
   "name": "python385jvsc74a57bd003ab3485111022ddd6ba22a8d84f7ffce4657f918741b21430c2e524f1a27e7c",
   "display_name": "Python 3.8.5 64-bit ('venv': venv)",
   "language": "python"
  },
  "metadata": {
   "interpreter": {
    "hash": "626ea8246a82476de376e6358a0371caa909bee52e0ad3b48293f4a510f9aa50"
   }
  }
 },
 "nbformat": 4,
 "nbformat_minor": 2,
 "cells": [
  {
   "cell_type": "code",
   "execution_count": 1,
   "metadata": {},
   "outputs": [],
   "source": [
    "from MovieRecommend import Movies"
   ]
  },
  {
   "cell_type": "code",
   "execution_count": 2,
   "metadata": {
    "tags": [
     "outputPrepend"
    ]
   },
   "outputs": [
    {
     "output_type": "stream",
     "name": "stdout",
     "text": [
      "Midsommar...\n",
      "importing The Dark Tower...\n",
      "importing Focus...\n",
      "importing Point Break...\n",
      "importing Once Upon a Time in Hollywood...\n",
      "importing Eddie the Eagle...\n",
      "importing Stranger Than Fiction...\n",
      "importing Kung Fu Panda 2...\n",
      "importing Kung Fu Panda 3...\n",
      "importing The Prestige...\n",
      "importing Paul Blart: Mall Cop 2...\n",
      "importing Good Morning, Vietnam...\n",
      "importing Game Night...\n",
      "importing Andhadhun...\n",
      "importing Howl's Moving Castle...\n",
      "importing Ad Astra...\n",
      "importing Walk of Shame...\n",
      "importing Robin Hood...\n",
      "importing El Camino: A Breaking Bad Movie...\n",
      "importing Spirited Away...\n",
      "importing Gemini Man...\n",
      "importing Snowpiercer...\n",
      "importing Geostorm...\n",
      "importing The Night Before...\n",
      "importing Frozen...\n",
      "importing Constantine...\n",
      "importing Due Date...\n",
      "importing Klaus...\n",
      "importing Enter the Dragon...\n",
      "importing Mr. Right...\n",
      "importing The Dukes of Hazzard...\n",
      "importing A Fish Called Wanda...\n",
      "importing Happy Death Day...\n",
      "importing The Knight Before Christmas...\n",
      "importing Chappie...\n",
      "importing The King's Speech...\n",
      "importing Joker...\n",
      "importing 6 Underground...\n",
      "importing Hot Tub Time Machine 2...\n",
      "importing The Santa Clause...\n",
      "importing Star Wars: Episode IX - The Rise of Skywalker...\n",
      "importing Jumanji: The Next Level...\n",
      "importing Jojo Rabbit...\n",
      "importing Hot Rod...\n",
      "importing Long Shot...\n",
      "importing Marriage Story...\n",
      "importing 1917...\n",
      "importing Bombshell...\n",
      "importing The Fugitive...\n",
      "importing CHIPS...\n",
      "importing Parasite...\n",
      "importing Missing Link...\n",
      "importing The Hustle...\n",
      "importing Uncut Gems...\n",
      "importing Spy...\n",
      "importing Rocky III...\n",
      "importing Beetlejuice...\n",
      "importing Nightcrawler...\n",
      "importing Last Action Hero...\n",
      "importing Fantastic Four...\n",
      "importing Straight Outta Compton...\n",
      "importing 50/50...\n",
      "importing Outbreak...\n",
      "importing Contagion...\n",
      "importing Boyz n the Hood...\n",
      "importing Training Day...\n",
      "importing She's Out of My League...\n",
      "importing Code 8...\n",
      "importing Night Hunter...\n",
      "importing Legally Blonde...\n",
      "importing The Raid 2...\n",
      "importing Time Trap...\n",
      "importing Extraction...\n",
      "importing The Town...\n",
      "importing Pitch Black...\n",
      "importing Kindergarten Cop...\n",
      "importing The Lincoln Lawyer...\n",
      "importing Anaconda...\n",
      "importing Doom...\n",
      "importing Left Behind...\n",
      "importing The Cobbler...\n",
      "importing The Wolf of Wall Street...\n",
      "importing Barbarella...\n",
      "importing Godzilla...\n",
      "importing The Cabin in the Woods...\n",
      "importing Battle Los Angeles...\n",
      "importing Colossal...\n",
      "importing Dante's Peak...\n",
      "importing Burn After Reading...\n",
      "importing Hustlers...\n",
      "importing Terminator Salvation...\n",
      "importing BlacKkKlansman...\n",
      "importing Deep Impact...\n",
      "importing Knives Out...\n",
      "importing Mercury Rising...\n",
      "importing The Judge...\n",
      "importing Friday...\n",
      "importing The Saint...\n",
      "importing Project Power...\n",
      "importing Safety Not Guaranteed...\n",
      "importing Blade: Trinity...\n",
      "importing Blade II...\n",
      "importing Kiss Kiss Bang Bang...\n",
      "importing Daybreakers...\n",
      "importing Ip Man 4: The Finale...\n",
      "importing The Old Guard...\n",
      "importing Dracula...\n",
      "importing Prisoners...\n",
      "importing Waterworld...\n",
      "importing Your Name...\n",
      "importing Bulletproof...\n",
      "importing The Babysitter: Killer Queen...\n",
      "importing Vampires vs. the Bronx...\n",
      "importing Kill Me Three Times...\n",
      "importing Gangster Squad...\n",
      "importing Primal Fear...\n",
      "importing The Imitation Game...\n",
      "importing The Trial of the Chicago 7...\n",
      "importing Lord of War...\n",
      "importing Richie Rich...\n",
      "importing Daddy's Home...\n",
      "importing A Million Ways to Die in the West...\n",
      "importing National Lampoon's Vacation...\n",
      "importing Mallrats...\n",
      "importing Who Framed Roger Rabbit...\n",
      "importing Here Comes the Boom...\n",
      "importing The Happytime Murders...\n",
      "importing Falling Down...\n",
      "importing Wild Wild West...\n",
      "importing Galaxy Quest...\n",
      "importing Taking Lives...\n",
      "importing State of Play...\n",
      "importing Spenser Confidential...\n",
      "importing Dead in a Week Or Your Money Back...\n",
      "importing The Bourne Legacy...\n",
      "importing Close Encounters of the Third Kind...\n",
      "importing The Brothers Grimsby...\n",
      "importing Sorry to Bother You...\n",
      "importing The Holiday...\n",
      "importing Love Actually...\n",
      "importing Princess Mononoke...\n",
      "importing My Neighbor Totoro...\n",
      "importing Old School...\n",
      "importing Smokin' Aces...\n",
      "importing Life...\n",
      "importing Self/less...\n",
      "importing What's the Worst That Could Happen?...\n",
      "importing Hotel Artemis...\n",
      "importing The Equalizer...\n",
      "importing Zack and Miri Make a Porno...\n",
      "importing Happy Death Day 2U...\n",
      "importing Shoot 'Em Up...\n",
      "importing Scarface...\n",
      "importing Lupin the Third: Castle of Cagliostro...\n",
      "importing Don't Be a Menace to South Central While Drinking Your Juice in the Hood...\n",
      "importing Rocky IV...\n",
      "importing Ong-Bak: The Thai Warrior...\n",
      "importing Rango...\n",
      "importing Goon...\n",
      "importing Zack Snyder's Justice League...\n",
      "importing Semi-Pro...\n",
      "importing The Art of Self-Defense...\n",
      "importing 3:10 to Yuma...\n",
      "importing Wonder Woman 1984...\n",
      "importing Birds of Prey...\n",
      "importing Goon: Last of the Enforcers...\n",
      "importing Jackie Chan: My Stunts...\n",
      "importing The Mexican...\n",
      "importing Palm Springs...\n",
      "importing Soul...\n",
      "importing American Assassin...\n",
      "importing Collateral...\n",
      "importing Red Heat...\n",
      "importing The Condemned...\n",
      "importing Green Street Hooligans...\n"
     ]
    }
   ],
   "source": [
    "mov = Movies()"
   ]
  },
  {
   "cell_type": "code",
   "execution_count": 3,
   "metadata": {
    "tags": [
     "outputPrepend"
    ]
   },
   "outputs": [
    {
     "output_type": "stream",
     "name": "stdout",
     "text": [
      "29  Stephen Schiff (screenplay by), Michael Finch ...   \n330                                     Stuart Beattie   \n331  Walter Hill (story), Harry Kleiner (screenplay...   \n332  Scott Wiper (screenplay), Rob Hedden (screenpl...   \n333  Lexi Alexander (story), Dougie Brimson (story)...   \n\n                                                Actors  \\\n0    Michelle Williams, Christopher Plummer, Mark W...   \n1    Dwayne Johnson, Kevin Hart, Jack Black, Karen ...   \n2    Keanu Reeves, Riccardo Scamarcio, Ian McShane,...   \n3    Jessica Chastain, Idris Elba, Kevin Costner, M...   \n4    Gary Oldman, Kristin Scott Thomas, Ben Mendels...   \n..                                                 ...   \n329  Dylan O'Brien, Charlotte Vega, Christopher Bom...   \n330  Tom Cruise, Jamie Foxx, Jada Pinkett Smith, Ma...   \n331  Arnold Schwarzenegger, Jim Belushi, Peter Boyl...   \n332  Steve Austin, Vinnie Jones, Robert Mammone, To...   \n333  Elijah Wood, Charlie Hunnam, Claire Forlani, M...   \n\n                                                  Plot  ...  \\\n0    The story of the kidnapping of 16-year-old Joh...  ...   \n1    Four teenagers are sucked into a magical video...  ...   \n2    After returning to the criminal underworld to ...  ...   \n3    The true story of Molly Bloom, an Olympic-clas...  ...   \n4    In May 1940, the fate of World War II hangs on...  ...   \n..                                                 ...  ...   \n329  After the death of his girlfriend at the hands...  ...   \n330  A cab driver finds himself the hostage of an e...  ...   \n331  A tough Russian policeman is forced to partner...  ...   \n332  Jack Conrad is awaiting the death penalty in a...  ...   \n333  A wrongfully expelled Harvard undergrad moves ...  ...   \n\n                                                Poster  \\\n0    https://m.media-amazon.com/images/M/MV5BNjY3Mj...   \n1    https://m.media-amazon.com/images/M/MV5BODQ0ND...   \n2    https://m.media-amazon.com/images/M/MV5BMjE2ND...   \n3    https://m.media-amazon.com/images/M/MV5BNTkzMz...   \n4    https://m.media-amazon.com/images/M/MV5BNTU4Mj...   \n..                                                 ...   \n329  https://m.media-amazon.com/images/M/MV5BMjM0Mj...   \n330  https://m.media-amazon.com/images/M/MV5BMjE3Nj...   \n331  https://m.media-amazon.com/images/M/MV5BMDkwMT...   \n332  https://m.media-amazon.com/images/M/MV5BNzkyOT...   \n333  https://m.media-amazon.com/images/M/MV5BMjExNT...   \n\n                                               Ratings Metascore imdbRating  \\\n0    [{'Source': 'Internet Movie Database', 'Value'...        72        6.8   \n1    [{'Source': 'Internet Movie Database', 'Value'...        58        6.9   \n2    [{'Source': 'Internet Movie Database', 'Value'...        75        7.5   \n3    [{'Source': 'Internet Movie Database', 'Value'...        71        7.4   \n4    [{'Source': 'Internet Movie Database', 'Value'...        75        7.4   \n..                                                 ...       ...        ...   \n329  [{'Source': 'Internet Movie Database', 'Value'...        45        6.2   \n330  [{'Source': 'Internet Movie Database', 'Value'...        71        7.5   \n331  [{'Source': 'Internet Movie Database', 'Value'...        61        6.1   \n332  [{'Source': 'Internet Movie Database', 'Value'...        23        6.0   \n333  [{'Source': 'Internet Movie Database', 'Value'...        55        7.5   \n\n        BoxOffice                                         Production   Format  \\\n0     $25,113,707                     Scott Free Productions, Redrum  Genesis   \n1    $404,540,171  Matt Tolmach Productions, Radar Pictures, Seve...  Genesis   \n2     $92,029,184                    87eleven, Thunder Road Pictures    NowTv   \n3     $28,780,744           Pascal Pictures, The Mark Gordon Company  Genesis   \n4     $56,468,410                                Working Title Films  Genesis   \n..            ...                                                ...      ...   \n329   $36,249,674              Nick Wechsler, Lorenzo di Bonaventura  Netflix   \n330  $101,005,703  Edge City LLC, Paramount Pictures, Forward Pas...  Netflix   \n331   $34,994,648                              Carolco Pictures Inc.  Netflix   \n332    $7,371,706                WWE Films, Sidestreet Entertainment     Plex   \n333      $346,830                         Warner Brothers/Seven Arts  Netflix   \n\n    Days to View Days Since Release  True Rating  \n0             13               1240            1  \n1             19               1245            3  \n2            328               1551            3  \n3             11               1233            3  \n4              8               1222            1  \n..           ...                ...          ...  \n329         1319               1342           -2  \n330         6066               6087            2  \n331                           11813           -2  \n332                            5135            0  \n333                            5730            0  \n\n[334 rows x 21 columns]\n"
     ]
    }
   ],
   "source": [
    "mov.print_files()"
   ]
  },
  {
   "cell_type": "code",
   "execution_count": 4,
   "metadata": {},
   "outputs": [
    {
     "output_type": "stream",
     "name": "stdout",
     "text": [
      "                            Title  Year  Rated     Released  Runtime  \\\n0      All the Money in the World  2017      R  25 Dec 2017  132 min   \n1  Jumanji: Welcome to the Jungle  2017  PG-13  20 Dec 2017  119 min   \n2            John Wick: Chapter 2  2017      R  10 Feb 2017  122 min   \n3                    Molly's Game  2017      R  05 Jan 2018  140 min   \n4                    Darkest Hour  2017  PG-13  22 Dec 2017  125 min   \n\n                                        Genre        Director  \\\n0  Biography, Crime, Drama, Mystery, Thriller    Ridley Scott   \n1          Action, Adventure, Comedy, Fantasy     Jake Kasdan   \n2                     Action, Crime, Thriller  Chad Stahelski   \n3                     Biography, Crime, Drama    Aaron Sorkin   \n4              Biography, Drama, History, War      Joe Wright   \n\n                                              Writer  \\\n0  David Scarpa, John Pearson (based on the book ...   \n1  Chris McKenna (screenplay by), Erik Sommers (s...   \n2  Derek Kolstad, Derek Kolstad (based on charact...   \n3  Aaron Sorkin (written for the screen by), Moll...   \n4                                   Anthony McCarten   \n\n                                              Actors  \\\n0  Michelle Williams, Christopher Plummer, Mark W...   \n1  Dwayne Johnson, Kevin Hart, Jack Black, Karen ...   \n2  Keanu Reeves, Riccardo Scamarcio, Ian McShane,...   \n3  Jessica Chastain, Idris Elba, Kevin Costner, M...   \n4  Gary Oldman, Kristin Scott Thomas, Ben Mendels...   \n\n                                                Plot  ...  \\\n0  The story of the kidnapping of 16-year-old Joh...  ...   \n1  Four teenagers are sucked into a magical video...  ...   \n2  After returning to the criminal underworld to ...  ...   \n3  The true story of Molly Bloom, an Olympic-clas...  ...   \n4  In May 1940, the fate of World War II hangs on...  ...   \n\n                                              Poster  \\\n0  https://m.media-amazon.com/images/M/MV5BNjY3Mj...   \n1  https://m.media-amazon.com/images/M/MV5BODQ0ND...   \n2  https://m.media-amazon.com/images/M/MV5BMjE2ND...   \n3  https://m.media-amazon.com/images/M/MV5BNTkzMz...   \n4  https://m.media-amazon.com/images/M/MV5BNTU4Mj...   \n\n                                             Ratings Metascore imdbRating  \\\n0  [{'Source': 'Internet Movie Database', 'Value'...        72        6.8   \n1  [{'Source': 'Internet Movie Database', 'Value'...        58        6.9   \n2  [{'Source': 'Internet Movie Database', 'Value'...        75        7.5   \n3  [{'Source': 'Internet Movie Database', 'Value'...        71        7.4   \n4  [{'Source': 'Internet Movie Database', 'Value'...        75        7.4   \n\n      BoxOffice                                         Production   Format  \\\n0   $25,113,707                     Scott Free Productions, Redrum  Genesis   \n1  $404,540,171  Matt Tolmach Productions, Radar Pictures, Seve...  Genesis   \n2   $92,029,184                    87eleven, Thunder Road Pictures    NowTv   \n3   $28,780,744           Pascal Pictures, The Mark Gordon Company  Genesis   \n4   $56,468,410                                Working Title Films  Genesis   \n\n  Days to View Days Since Release  True Rating  \n0           13               1240            1  \n1           19               1245            3  \n2          328               1551            3  \n3           11               1233            3  \n4            8               1222            1  \n\n[5 rows x 21 columns]\n"
     ]
    }
   ],
   "source": [
    "mov.preview_files()"
   ]
  },
  {
   "cell_type": "code",
   "execution_count": 5,
   "metadata": {},
   "outputs": [],
   "source": [
    "new_df = mov.get_df()"
   ]
  },
  {
   "cell_type": "code",
   "execution_count": 6,
   "metadata": {},
   "outputs": [
    {
     "output_type": "stream",
     "name": "stdout",
     "text": [
      "0      David Scarpa, John Pearson (based on the book ...\n1      Chris McKenna (screenplay by), Erik Sommers (s...\n2      Derek Kolstad, Derek Kolstad (based on charact...\n3      Aaron Sorkin (written for the screen by), Moll...\n4                                       Anthony McCarten\n                             ...                        \n329    Stephen Schiff (screenplay by), Michael Finch ...\n330                                       Stuart Beattie\n331    Walter Hill (story), Harry Kleiner (screenplay...\n332    Scott Wiper (screenplay), Rob Hedden (screenpl...\n333    Lexi Alexander (story), Dougie Brimson (story)...\nName: Writer, Length: 334, dtype: object\n"
     ]
    }
   ],
   "source": [
    "print(new_df['Writer'])"
   ]
  },
  {
   "cell_type": "code",
   "execution_count": 7,
   "metadata": {},
   "outputs": [
    {
     "output_type": "stream",
     "name": "stdout",
     "text": [
      "0                            David Scarpa, John Pearson \n1      Chris McKenna , Erik Sommers , Scott Rosenberg...\n2                          Derek Kolstad, Derek Kolstad \n3                            Aaron Sorkin , Molly Bloom \n4                                       Anthony McCarten\n                             ...                        \n329    Stephen Schiff , Michael Finch , Edward Zwick ...\n330                                       Stuart Beattie\n331    Walter Hill , Harry Kleiner , Walter Hill , Tr...\n332    Scott Wiper , Rob Hedden , Rob Hedden , Andy H...\n333    Lexi Alexander , Dougie Brimson , Dougie Brims...\nName: Writer, Length: 334, dtype: object\n0                             [davidscarpa, johnpearson]\n1      [chrismckenna, eriksommers, scottrosenberg, je...\n2                           [derekkolstad, derekkolstad]\n3                              [aaronsorkin, mollybloom]\n4                                      [anthonymccarten]\n                             ...                        \n329    [stephenschiff, michaelfinch, edwardzwick, mar...\n330                                      [stuartbeattie]\n331    [walterhill, harrykleiner, walterhill, troyken...\n332    [scottwiper, robhedden, robhedden, andyhedden,...\n333    [lexialexander, dougiebrimson, dougiebrimson, ...\nName: Writer, Length: 334, dtype: object\n"
     ]
    }
   ],
   "source": [
    "import re\n",
    "new_df['Writer'] = new_df['Writer'].apply(lambda x: re.sub(\"[\\(\\[].*?[\\)\\]]\", \"\", str(x)))\n",
    "print(new_df['Writer'])\n",
    "\n",
    "new_df['Writer'] = new_df['Writer'].str.replace(' ','')\n",
    "new_df['Writer'] = new_df['Writer'].str.replace('N/A','nan')\n",
    "new_df['Writer'] = new_df['Writer'].apply(lambda x: x.lower())\n",
    "new_df['Writer'] = new_df['Writer'].apply(lambda x: re.split(',|/',x))\n",
    "print(new_df['Writer'])"
   ]
  },
  {
   "cell_type": "code",
   "execution_count": 8,
   "metadata": {
    "tags": []
   },
   "outputs": [
    {
     "output_type": "stream",
     "name": "stdout",
     "text": [
      "0      Michelle Williams, Christopher Plummer, Mark W...\n1      Dwayne Johnson, Kevin Hart, Jack Black, Karen ...\n2      Keanu Reeves, Riccardo Scamarcio, Ian McShane,...\n3      Jessica Chastain, Idris Elba, Kevin Costner, M...\n4      Gary Oldman, Kristin Scott Thomas, Ben Mendels...\n                             ...                        \n329    Dylan O'Brien, Charlotte Vega, Christopher Bom...\n330    Tom Cruise, Jamie Foxx, Jada Pinkett Smith, Ma...\n331    Arnold Schwarzenegger, Jim Belushi, Peter Boyl...\n332    Steve Austin, Vinnie Jones, Robert Mammone, To...\n333    Elijah Wood, Charlie Hunnam, Claire Forlani, M...\nName: Actors, Length: 334, dtype: object\n0      [michellewilliams, christopherplummer, markwah...\n1      [dwaynejohnson, kevinhart, jackblack, karengil...\n2      [keanureeves, riccardoscamarcio, ianmcshane, r...\n3      [jessicachastain, idriselba, kevincostner, mic...\n4      [garyoldman, kristinscottthomas, benmendelsohn...\n                             ...                        \n329    [dylano'brien, charlottevega, christopherbomfo...\n330    [tomcruise, jamiefoxx, jadapinkettsmith, markr...\n331    [arnoldschwarzenegger, jimbelushi, peterboyle,...\n332    [steveaustin, vinniejones, robertmammone, tory...\n333    [elijahwood, charliehunnam, claireforlani, mar...\nName: Actors, Length: 334, dtype: object\n"
     ]
    }
   ],
   "source": [
    "test = new_df.copy()\n",
    "\n",
    "form_cols = ['Actors']\n",
    "print(test['Actors'])\n",
    "\n",
    "for col in form_cols:\n",
    "            test[col] = test[col].str.replace(' ','')\n",
    "            test[col] = test[col].str.replace('N/A','nan')\n",
    "            test[col] = test[col].apply(lambda x: x.lower())\n",
    "            test[col] = test[col].apply(lambda x: re.split(',|/',x))\n",
    "\n",
    "print(test['Actors'])"
   ]
  },
  {
   "cell_type": "code",
   "execution_count": 9,
   "metadata": {},
   "outputs": [
    {
     "output_type": "stream",
     "name": "stdout",
     "text": [
      "In create features\n",
      "Cleaning writer column\n",
      "Dataframe assigned\n",
      "Writer column cleaned\n",
      "Dataframe assigned\n",
      "Writer column cleaned and assigned\n",
      "Dataframe assigned for features\n",
      "Plot lemma column created\n",
      "Form columns split\n",
      "Created new dataframes of split columns\n",
      "Joining dataframes\n",
      "Dataframes joined\n"
     ]
    }
   ],
   "source": [
    "mov.create_features()"
   ]
  },
  {
   "cell_type": "code",
   "execution_count": 10,
   "metadata": {},
   "outputs": [
    {
     "output_type": "stream",
     "name": "stdout",
     "text": [
      "                            Title  Year  Rated     Released  Runtime  \\\n0      All the Money in the World  2017      R  25 Dec 2017  132 min   \n1  Jumanji: Welcome to the Jungle  2017  PG-13  20 Dec 2017  119 min   \n2            John Wick: Chapter 2  2017      R  10 Feb 2017  122 min   \n3                    Molly's Game  2017      R  05 Jan 2018  140 min   \n4                    Darkest Hour  2017  PG-13  22 Dec 2017  125 min   \n\n                                          Genre         Director Writer  \\\n0  [biography, crime, drama, mystery, thriller]    [ridleyscott]     []   \n1          [action, adventure, comedy, fantasy]     [jakekasdan]     []   \n2                     [action, crime, thriller]  [chadstahelski]     []   \n3                     [biography, crime, drama]    [aaronsorkin]     []   \n4              [biography, drama, history, war]      [joewright]     []   \n\n                                              Actors  \\\n0  [michellewilliams, christopherplummer, markwah...   \n1  [dwaynejohnson, kevinhart, jackblack, karengil...   \n2  [keanureeves, riccardoscamarcio, ianmcshane, r...   \n3  [jessicachastain, idriselba, kevincostner, mic...   \n4  [garyoldman, kristinscottthomas, benmendelsohn...   \n\n                                                Plot  ...  \\\n0  The story of the kidnapping of 16-year-old Joh...  ...   \n1  Four teenagers are sucked into a magical video...  ...   \n2  After returning to the criminal underworld to ...  ...   \n3  The true story of Molly Bloom, an Olympic-clas...  ...   \n4  In May 1940, the fate of World War II hangs on...  ...   \n\n            Production_2      Production_3 Production_4 Production_5  \\\n0                   None              None         None         None   \n1  sevenbucksproductions  columbiapictures         None         None   \n2                   None              None         None         None   \n3                   None              None         None         None   \n4                   None              None         None         None   \n\n  Production_6 Production_7 Production_8 Production_9 Production_10  Writer_0  \n0         None         None         None         None          None            \n1         None         None         None         None          None            \n2         None         None         None         None          None            \n3         None         None         None         None          None            \n4         None         None         None         None          None            \n\n[5 rows x 50 columns]\n"
     ]
    }
   ],
   "source": [
    "mov.preview_files()"
   ]
  },
  {
   "cell_type": "code",
   "execution_count": 11,
   "metadata": {},
   "outputs": [],
   "source": [
    "df = mov.get_df()"
   ]
  },
  {
   "cell_type": "code",
   "execution_count": 12,
   "metadata": {
    "tags": [
     "outputPrepend"
    ]
   },
   "outputs": [
    {
     "output_type": "stream",
     "name": "stdout",
     "text": [
      "pter 2  2017      R  10 Feb 2017  122 min   \n3                      Molly's Game  2017      R  05 Jan 2018  140 min   \n4                      Darkest Hour  2017  PG-13  22 Dec 2017  125 min   \n..                              ...   ...    ...          ...      ...   \n329               American Assassin  2017      R  15 Sep 2017  111 min   \n330                      Collateral  2004      R  06 Aug 2004  120 min   \n331                        Red Heat  1988      R  17 Jun 1988  104 min   \n332                   The Condemned  2007      R  27 Apr 2007  113 min   \n333          Green Street Hooligans  2005      R  09 Sep 2005  109 min   \n\n                                            Genre         Director Writer  \\\n0    [biography, crime, drama, mystery, thriller]    [ridleyscott]     []   \n1            [action, adventure, comedy, fantasy]     [jakekasdan]     []   \n2                       [action, crime, thriller]  [chadstahelski]     []   \n3                       [biography, crime, drama]    [aaronsorkin]     []   \n4                [biography, drama, history, war]      [joewright]     []   \n..                                            ...              ...    ...   \n329                            [action, thriller]  [michaelcuesta]     []   \n330                      [crime, drama, thriller]    [michaelmann]     []   \n331             [action, comedy, crime, thriller]     [walterhill]     []   \n332                     [action, crime, thriller]     [scottwiper]     []   \n333                    [crime, drama, sport, war]  [lexialexander]     []   \n\n                                                Actors  \\\n0    [michellewilliams, christopherplummer, markwah...   \n1    [dwaynejohnson, kevinhart, jackblack, karengil...   \n2    [keanureeves, riccardoscamarcio, ianmcshane, r...   \n3    [jessicachastain, idriselba, kevincostner, mic...   \n4    [garyoldman, kristinscottthomas, benmendelsohn...   \n..                                                 ...   \n329  [dylano'brien, charlottevega, christopherbomfo...   \n330  [tomcruise, jamiefoxx, jadapinkettsmith, markr...   \n331  [arnoldschwarzenegger, jimbelushi, peterboyle,...   \n332  [steveaustin, vinniejones, robertmammone, tory...   \n333  [elijahwood, charliehunnam, claireforlani, mar...   \n\n                                                  Plot  ...  \\\n0    The story of the kidnapping of 16-year-old Joh...  ...   \n1    Four teenagers are sucked into a magical video...  ...   \n2    After returning to the criminal underworld to ...  ...   \n3    The true story of Molly Bloom, an Olympic-clas...  ...   \n4    In May 1940, the fate of World War II hangs on...  ...   \n..                                                 ...  ...   \n329  After the death of his girlfriend at the hands...  ...   \n330  A cab driver finds himself the hostage of an e...  ...   \n331  A tough Russian policeman is forced to partner...  ...   \n332  Jack Conrad is awaiting the death penalty in a...  ...   \n333  A wrongfully expelled Harvard undergrad moves ...  ...   \n\n              Production_2      Production_3 Production_4 Production_5  \\\n0                     None              None         None         None   \n1    sevenbucksproductions  columbiapictures         None         None   \n2                     None              None         None         None   \n3                     None              None         None         None   \n4                     None              None         None         None   \n..                     ...               ...          ...          ...   \n329                   None              None         None         None   \n330            forwardpass     dreamworksskg         None         None   \n331                   None              None         None         None   \n332                   None              None         None         None   \n333                   None              None         None         None   \n\n    Production_6 Production_7 Production_8 Production_9 Production_10  \\\n0           None         None         None         None          None   \n1           None         None         None         None          None   \n2           None         None         None         None          None   \n3           None         None         None         None          None   \n4           None         None         None         None          None   \n..           ...          ...          ...          ...           ...   \n329         None         None         None         None          None   \n330         None         None         None         None          None   \n331         None         None         None         None          None   \n332         None         None         None         None          None   \n333         None         None         None         None          None   \n\n     Writer_0  \n0              \n1              \n2              \n3              \n4              \n..        ...  \n329            \n330            \n331            \n332            \n333            \n\n[334 rows x 50 columns]\n"
     ]
    }
   ],
   "source": [
    "mov.print_files()"
   ]
  }
 ]
}