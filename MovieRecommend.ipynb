{
 "metadata": {
  "language_info": {
   "codemirror_mode": {
    "name": "ipython",
    "version": 3
   },
   "file_extension": ".py",
   "mimetype": "text/x-python",
   "name": "python",
   "nbconvert_exporter": "python",
   "pygments_lexer": "ipython3",
   "version": "3.7.3"
  },
  "orig_nbformat": 2,
  "kernelspec": {
   "name": "python373jvsc74a57bd06aee4f39eba147985a2c1cbf1db4ebecc02362fa8877deaa860706b7b1b97f3d",
   "display_name": "Python 3.7.3 64-bit ('base': conda)"
  },
  "metadata": {
   "interpreter": {
    "hash": "626ea8246a82476de376e6358a0371caa909bee52e0ad3b48293f4a510f9aa50"
   }
  }
 },
 "nbformat": 4,
 "nbformat_minor": 2,
 "cells": [
  {
   "cell_type": "code",
   "execution_count": 1,
   "metadata": {},
   "outputs": [],
   "source": [
    "from MovieRecommend import Movies"
   ]
  },
  {
   "cell_type": "code",
   "execution_count": 2,
   "metadata": {
    "tags": []
   },
   "outputs": [
    {
     "output_type": "stream",
     "name": "stderr",
     "text": [
      "Importing 2018: 100%|██████████| 100/100 [00:26<00:00,  3.70it/s]\n",
      "Importing 2019: 100%|██████████| 100/100 [00:21<00:00,  4.72it/s]\n",
      "Importing 2020: 100%|██████████| 100/100 [00:21<00:00,  4.75it/s]\n",
      "Importing 2021: 100%|██████████| 34/34 [00:08<00:00,  4.19it/s]\n"
     ]
    }
   ],
   "source": [
    "mov = Movies()"
   ]
  },
  {
   "cell_type": "code",
   "execution_count": 3,
   "metadata": {
    "tags": [
     "outputPrepend"
    ]
   },
   "outputs": [
    {
     "output_type": "stream",
     "name": "stdout",
     "text": [
      " Frattasio (b...  2011         6.8   \n318  Jerry Siegel (Superman created by), Joe Shuste...  2021         8.1   \n319                                     Scot Armstrong  2008         5.8   \n320                                      Riley Stearns  2019         6.6   \n321  Halsted Welles (screenplay), Michael Brandt (s...  2007         7.7   \n322  Patty Jenkins (story by), Geoff Johns (story b...  2020         5.4   \n323  Christina Hodson, Paul Dini (Harley Quinn crea...  2020         6.1   \n324  Jay Baruchel (screenplay by), Jesse Chabot (sc...  2017         5.8   \n325                                 Bey Logan (script)  1999         7.6   \n326                                         J.H. Wyman  2001         6.1   \n327  Andy Siara (screenplay by), Max Barbakow (stor...  2020         7.4   \n328  Pete Docter (story by), Mike Jones (story & sc...  2020         8.1   \n329  Stephen Schiff (screenplay by), Michael Finch ...  2017         6.2   \n330                                     Stuart Beattie  2004         7.5   \n331  Walter Hill (story), Harry Kleiner (screenplay...  1988         6.1   \n332  Scott Wiper (screenplay), Rob Hedden (screenpl...  2007           6   \n333  Lexi Alexander (story), Dougie Brimson (story)...  2005         7.5   \n\n      Format Days to View Days Since Release  True Rating  \n0    Genesis           13               1241            1  \n1    Genesis           19               1246            3  \n2      NowTv          328               1552            3  \n3    Genesis           11               1234            3  \n4    Genesis            8               1223            1  \n5    Genesis            7               1216            2  \n6     Amazon         6539               7747            4  \n7    Genesis           10               1216            4  \n8    Genesis           21               1223            4  \n9    Netflix        10717              11912            2  \n10   Genesis            1               1191            3  \n11   Genesis            2               1190            3  \n12   Netflix         3593               4779            2  \n13   Genesis            0               1181            3  \n14   Netflix        15035              16209            4  \n15   Netflix          421               1588            2  \n16   Netflix         3689               4856            1  \n17   Netflix         2906               4072            3  \n18   Netflix          221               1384            4  \n19    Amazon         8106               9266            4  \n20   Netflix          732               1888           -1  \n21   Netflix          993               2144            2  \n22   Netflix        13693              14831            2  \n23   Netflix         1753               2889           -1  \n24   Netflix          432               1567            2  \n25   Netflix          866               2000            3  \n26   Netflix          240               1370            3  \n27   Netflix            8               1134            0  \n28   Genesis           22               1146            4  \n29   Genesis           19               1140            4  \n..       ...          ...                ...          ...  \n304  Netflix         2017               2133           -2  \n305  Netflix         6785               6900           -4  \n306  Netflix          939               1034            1  \n307  Netflix         2272               2366            0  \n308  Netflix         4475               4569           -3  \n309  Netflix          735                826            0  \n310  Netflix         4844               4935            2  \n311  Netflix        13221              13309            2  \n312  Netflix        15044              15131            2  \n313  Netflix         9179               9259            1  \n314    NowTv        12820              12899            2  \n315    NowTv         6233               6299            4  \n316  Netflix         3670               3729            3  \n317  Netflix         3362               3421            3  \n318    NowTv            5                 62           -5  \n319  Netflix         4773               4828           -4  \n320  Netflix          616                670            1  \n321  Netflix         4945               4996            3  \n322    NowTv          104                154           -3  \n323    NowTv          419                467           -3  \n324  Netflix         1301               1349            1  \n325    NowTv         8040               8086            2  \n326  Netflix         7281               7327           -2  \n327   Amazon            8                 40            4  \n328  Netflix          120                145            3  \n329  Netflix         1319               1343           -2  \n330  Netflix         6066               6088            2  \n331  Netflix                           11814           -2  \n332     Plex                            5136            0  \n333  Netflix                            5731            0  \n\n[334 rows x 21 columns]\n"
     ]
    }
   ],
   "source": [
    "mov.print_files()"
   ]
  },
  {
   "cell_type": "code",
   "execution_count": 4,
   "metadata": {},
   "outputs": [
    {
     "output_type": "stream",
     "name": "stdout",
     "text": [
      "                                              Actors  \\\n0  Michelle Williams, Christopher Plummer, Mark W...   \n1  Dwayne Johnson, Kevin Hart, Jack Black, Karen ...   \n2  Keanu Reeves, Riccardo Scamarcio, Ian McShane,...   \n3  Jessica Chastain, Idris Elba, Kevin Costner, M...   \n4  Gary Oldman, Kristin Scott Thomas, Ben Mendels...   \n\n                                              Awards     BoxOffice  \\\n0     Nominated for 1 Oscar. Another 14 nominations.   $25,113,707   \n1                           6 wins & 19 nominations.  $404,540,171   \n2                           4 wins & 10 nominations.   $92,029,184   \n3  Nominated for 1 Oscar. Another 8 wins & 50 nom...   $28,780,744   \n4    Won 2 Oscars. Another 51 wins & 79 nominations.   $56,468,410   \n\n         Director                                       Genre Metascore  \\\n0    Ridley Scott  Biography, Crime, Drama, Mystery, Thriller        72   \n1     Jake Kasdan          Action, Adventure, Comedy, Fantasy        58   \n2  Chad Stahelski                     Action, Crime, Thriller        75   \n3    Aaron Sorkin                     Biography, Crime, Drama        71   \n4      Joe Wright              Biography, Drama, History, War        75   \n\n                                                Plot  \\\n0  The story of the kidnapping of 16-year-old Joh...   \n1  Four teenagers are sucked into a magical video...   \n2  After returning to the criminal underworld to ...   \n3  The true story of Molly Bloom, an Olympic-clas...   \n4  In May 1940, the fate of World War II hangs on...   \n\n                                              Poster  \\\n0  https://m.media-amazon.com/images/M/MV5BNjY3Mj...   \n1  https://m.media-amazon.com/images/M/MV5BODQ0ND...   \n2  https://m.media-amazon.com/images/M/MV5BMjE2ND...   \n3  https://m.media-amazon.com/images/M/MV5BNTkzMz...   \n4  https://m.media-amazon.com/images/M/MV5BNTU4Mj...   \n\n                                          Production  Rated  ...     Released  \\\n0                     Scott Free Productions, Redrum      R  ...  25 Dec 2017   \n1  Matt Tolmach Productions, Radar Pictures, Seve...  PG-13  ...  20 Dec 2017   \n2                    87eleven, Thunder Road Pictures      R  ...  10 Feb 2017   \n3           Pascal Pictures, The Mark Gordon Company      R  ...  05 Jan 2018   \n4                                Working Title Films  PG-13  ...  22 Dec 2017   \n\n   Runtime                           Title  \\\n0  132 min      All the Money in the World   \n1  119 min  Jumanji: Welcome to the Jungle   \n2  122 min            John Wick: Chapter 2   \n3  140 min                    Molly's Game   \n4  125 min                    Darkest Hour   \n\n                                              Writer  Year  imdbRating  \\\n0  David Scarpa, John Pearson (based on the book ...  2017         6.8   \n1  Chris McKenna (screenplay by), Erik Sommers (s...  2017         6.9   \n2  Derek Kolstad, Derek Kolstad (based on charact...  2017         7.5   \n3  Aaron Sorkin (written for the screen by), Moll...  2017         7.4   \n4                                   Anthony McCarten  2017         7.4   \n\n    Format Days to View Days Since Release  True Rating  \n0  Genesis           13               1241            1  \n1  Genesis           19               1246            3  \n2    NowTv          328               1552            3  \n3  Genesis           11               1234            3  \n4  Genesis            8               1223            1  \n\n[5 rows x 21 columns]\n"
     ]
    }
   ],
   "source": [
    "mov.preview_files()"
   ]
  },
  {
   "cell_type": "code",
   "execution_count": 5,
   "metadata": {},
   "outputs": [],
   "source": [
    "new_df = mov.get_df()"
   ]
  },
  {
   "cell_type": "code",
   "execution_count": 6,
   "metadata": {},
   "outputs": [
    {
     "output_type": "stream",
     "name": "stdout",
     "text": [
      "In create features\n",
      "Writer column cleaned and assigned\n",
      "Dataframe assigned for features\n",
      "Plot lemma column created\n",
      "Form columns split\n",
      "Created new dataframes of split columns\n",
      "Joining dataframes\n",
      "Dataframes joined\n"
     ]
    }
   ],
   "source": [
    "mov.create_features()"
   ]
  },
  {
   "cell_type": "code",
   "execution_count": 7,
   "metadata": {},
   "outputs": [
    {
     "output_type": "stream",
     "name": "stdout",
     "text": [
      "                                              Actors  \\\n0  [michellewilliams, christopherplummer, markwah...   \n1  [dwaynejohnson, kevinhart, jackblack, karengil...   \n2  [keanureeves, riccardoscamarcio, ianmcshane, r...   \n3  [jessicachastain, idriselba, kevincostner, mic...   \n4  [garyoldman, kristinscottthomas, benmendelsohn...   \n\n                                              Awards     BoxOffice  \\\n0     Nominated for 1 Oscar. Another 14 nominations.   $25,113,707   \n1                           6 wins & 19 nominations.  $404,540,171   \n2                           4 wins & 10 nominations.   $92,029,184   \n3  Nominated for 1 Oscar. Another 8 wins & 50 nom...   $28,780,744   \n4    Won 2 Oscars. Another 51 wins & 79 nominations.   $56,468,410   \n\n          Director                                         Genre Metascore  \\\n0    [ridleyscott]  [biography, crime, drama, mystery, thriller]        72   \n1     [jakekasdan]          [action, adventure, comedy, fantasy]        58   \n2  [chadstahelski]                     [action, crime, thriller]        75   \n3    [aaronsorkin]                     [biography, crime, drama]        71   \n4      [joewright]              [biography, drama, history, war]        75   \n\n                                                Plot  \\\n0  The story of the kidnapping of 16-year-old Joh...   \n1  Four teenagers are sucked into a magical video...   \n2  After returning to the criminal underworld to ...   \n3  The true story of Molly Bloom, an Olympic-clas...   \n4  In May 1940, the fate of World War II hangs on...   \n\n                                              Poster  \\\n0  https://m.media-amazon.com/images/M/MV5BNjY3Mj...   \n1  https://m.media-amazon.com/images/M/MV5BODQ0ND...   \n2  https://m.media-amazon.com/images/M/MV5BMjE2ND...   \n3  https://m.media-amazon.com/images/M/MV5BNTkzMz...   \n4  https://m.media-amazon.com/images/M/MV5BNTU4Mj...   \n\n                                          Production  Rated  ...    Writer_6  \\\n0                     [scottfreeproductions, redrum]      R  ...        None   \n1  [matttolmachproductions, radarpictures, sevenb...  PG-13  ...  gregtaylor   \n2                    [87eleven, thunderroadpictures]      R  ...        None   \n3             [pascalpictures, themarkgordoncompany]      R  ...        None   \n4                                [workingtitlefilms]  PG-13  ...        None   \n\n           Writer_7           Writer_8    Writer_9  Writer_10  Writer_11  \\\n0              None               None        None       None       None   \n1  chrisvanallsburg  jonathanhensleigh  gregtaylor  jimstrain       None   \n2              None               None        None       None       None   \n3              None               None        None       None       None   \n4              None               None        None       None       None   \n\n  Writer_12 Writer_13 Writer_14  Writer_15  \n0      None      None      None       None  \n1      None      None      None       None  \n2      None      None      None       None  \n3      None      None      None       None  \n4      None      None      None       None  \n\n[5 rows x 65 columns]\n"
     ]
    }
   ],
   "source": [
    "mov.preview_files()"
   ]
  },
  {
   "cell_type": "code",
   "execution_count": 8,
   "metadata": {},
   "outputs": [],
   "source": [
    "df = mov.get_df()"
   ]
  },
  {
   "cell_type": "code",
   "execution_count": 9,
   "metadata": {
    "tags": [
     "outputPrepend"
    ]
   },
   "outputs": [
    {
     "output_type": "stream",
     "name": "stdout",
     "text": [
      "              None               None                   None   \n326        None              None               None                   None   \n327        None              None               None                   None   \n328        None              None               None                   None   \n329        None              None               None                   None   \n330        None              None               None                   None   \n331        None              None               None                   None   \n332        None              None               None                   None   \n333        None              None               None                   None   \n\n     Writer_10  Writer_11 Writer_12 Writer_13 Writer_14  Writer_15  \n0         None       None      None      None      None       None  \n1    jimstrain       None      None      None      None       None  \n2         None       None      None      None      None       None  \n3         None       None      None      None      None       None  \n4         None       None      None      None      None       None  \n5         None       None      None      None      None       None  \n6         None       None      None      None      None       None  \n7         None       None      None      None      None       None  \n8         None       None      None      None      None       None  \n9         None       None      None      None      None       None  \n10        None       None      None      None      None       None  \n11        None       None      None      None      None       None  \n12        None       None      None      None      None       None  \n13        None       None      None      None      None       None  \n14        None       None      None      None      None       None  \n15        None       None      None      None      None       None  \n16        None       None      None      None      None       None  \n17        None       None      None      None      None       None  \n18        None       None      None      None      None       None  \n19        None       None      None      None      None       None  \n20        None       None      None      None      None       None  \n21        None       None      None      None      None       None  \n22        None       None      None      None      None       None  \n23        None       None      None      None      None       None  \n24        None       None      None      None      None       None  \n25        None       None      None      None      None       None  \n26        None       None      None      None      None       None  \n27        None       None      None      None      None       None  \n28        None       None      None      None      None       None  \n29        None       None      None      None      None       None  \n..         ...        ...       ...       ...       ...        ...  \n304       None       None      None      None      None       None  \n305       None       None      None      None      None       None  \n306       None       None      None      None      None       None  \n307       None       None      None      None      None       None  \n308       None       None      None      None      None       None  \n309       None       None      None      None      None       None  \n310       None       None      None      None      None       None  \n311       None       None      None      None      None       None  \n312       None       None      None      None      None       None  \n313       None       None      None      None      None       None  \n314       None       None      None      None      None       None  \n315       None       None      None      None      None       None  \n316       None       None      None      None      None       None  \n317       None       None      None      None      None       None  \n318  jackkirby       None      None      None      None       None  \n319       None       None      None      None      None       None  \n320       None       None      None      None      None       None  \n321       None       None      None      None      None       None  \n322       None       None      None      None      None       None  \n323       None       None      None      None      None       None  \n324       None       None      None      None      None       None  \n325       None       None      None      None      None       None  \n326       None       None      None      None      None       None  \n327       None       None      None      None      None       None  \n328       None       None      None      None      None       None  \n329       None       None      None      None      None       None  \n330       None       None      None      None      None       None  \n331       None       None      None      None      None       None  \n332       None       None      None      None      None       None  \n333       None       None      None      None      None       None  \n\n[334 rows x 65 columns]\n"
     ]
    }
   ],
   "source": [
    "mov.print_files()"
   ]
  }
 ]
}