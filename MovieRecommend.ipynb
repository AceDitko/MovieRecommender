{
 "metadata": {
  "language_info": {
   "codemirror_mode": {
    "name": "ipython",
    "version": 3
   },
   "file_extension": ".py",
   "mimetype": "text/x-python",
   "name": "python",
   "nbconvert_exporter": "python",
   "pygments_lexer": "ipython3",
   "version": "3.7.3"
  },
  "orig_nbformat": 2,
  "kernelspec": {
   "name": "python373jvsc74a57bd06aee4f39eba147985a2c1cbf1db4ebecc02362fa8877deaa860706b7b1b97f3d",
   "display_name": "Python 3.7.3 64-bit ('base': conda)"
  },
  "metadata": {
   "interpreter": {
    "hash": "626ea8246a82476de376e6358a0371caa909bee52e0ad3b48293f4a510f9aa50"
   }
  }
 },
 "nbformat": 4,
 "nbformat_minor": 2,
 "cells": [
  {
   "cell_type": "code",
   "execution_count": 1,
   "metadata": {},
   "outputs": [],
   "source": [
    "from MovieRecommend import Movies"
   ]
  },
  {
   "cell_type": "code",
   "execution_count": 2,
   "metadata": {
    "tags": []
   },
   "outputs": [
    {
     "output_type": "stream",
     "name": "stdout",
     "text": [
      "Loading saved movie database...\n"
     ]
    }
   ],
   "source": [
    "mov = Movies()"
   ]
  },
  {
   "cell_type": "code",
   "execution_count": 3,
   "metadata": {
    "tags": [
     "outputPrepend"
    ]
   },
   "outputs": [
    {
     "output_type": "stream",
     "name": "stdout",
     "text": [
      "s Stoller (sc...  2005         6.2   \n85   Mario Puzo (screenplay by), Francis Ford Coppo...  1972         9.2   \n86   Francis Ford Coppola (screenplay by), Mario Pu...  1974           9   \n87   Terry Rossio (screenplay), Ted Elliott (screen...  2000         6.9   \n88   Jack Bernstein (story), Jack Bernstein (screen...  1994         6.9   \n89         Jack Bernstein (characters), Steve Oedekerk  1995         6.4   \n9                                         George Gallo  1988         7.5   \n90   John Wagner ('Judge Dredd' created by), Carlos...  2012         7.1   \n91   Andrew Stanton (original story by), Andrew Sta...  2016         7.3   \n92               John Hughes (characters), John Hughes  1992         6.8   \n93                                     Russell Gewirtz  2006         7.6   \n94   Callie Kloves (screenplay by), Rudyard Kipling...  2018         6.5   \n95   Todd Komarnicki, Chesley Sullenberger (based o...  2016         7.4   \n96   Charlie Kaufman (story), Michel Gondry (story)...  2004         8.3   \n97   Susan Gauthier (screenplay), Bruce Graham (scr...  1997         7.2   \n98   Graham Chapman, John Cleese, Terry Gilliam, Er...  1979         8.1   \n99   Phil Lord (screenplay by), Rodney Rothman (scr...  2018         8.4   \n\n      Format Days to View Days Since Release  True Rating  \n0    Genesis           13               1241            1  \n1    Genesis           19               1246            3  \n10   Genesis            1               1191            3  \n100   Amazon          313               1181            1  \n101  Netflix          748               1610           -1  \n102  Netflix           18                880           -2  \n103  Netflix          680               1538            0  \n104  Netflix          701               1559            2  \n105     Plex          104                957            0  \n106  Netflix         8518               9371            4  \n107     Plex         1453               2301            2  \n108     Plex          123                959           -4  \n109     Plex        11850              12682            1  \n11   Genesis            2               1190            3  \n110  Netflix         2377               3201            3  \n111     Plex           66                889            0  \n112    NowTv        14372              15182            4  \n113     Plex          106                915           -3  \n114  Netflix         6596               7404            3  \n115  Netflix         5890               6697            2  \n116  Netflix          713               1517           -2  \n117  Netflix         5339               6142            0  \n118    Pathé          136                938            2  \n119    Pathé            1                803            3  \n12   Netflix         3593               4779            2  \n120    NowTv        13352              14146            4  \n121  Netflix          122                916            5  \n122  Netflix          752               1532            0  \n123  Netflix          538               1314            3  \n124  Netflix         4339               5115            2  \n..       ...          ...                ...          ...  \n72   Netflix         6637               7551            1  \n73      Plex           87               1001            1  \n74   Netflix          706               1616            2  \n75   Netflix           13                922            1  \n76   Netflix         8812               9721            4  \n77   Netflix         5018               5927            3  \n78   Netflix         7378               8286            4  \n79   Netflix         5517               6424            2  \n8    Genesis           21               1223            4  \n80   Netflix         5329               6235            2  \n81   Netflix        12771              13676            0  \n82   Netflix         2845               3750            0  \n83   Netflix         7200               8104            2  \n84   Netflix         4694               5598            1  \n85   Netflix        16896              17800            4  \n86   Netflix        15903              16806            4  \n87   Netflix         6690               7593            4  \n88   Netflix         8979               9882            1  \n89   Netflix         8374               9276            1  \n9    Netflix        10717              11912            2  \n90   Netflix         2213               3115            1  \n91   Netflix          944               1846            2  \n92   Netflix         9494              10386            3  \n93   Netflix         4643               5535            2  \n94   Netflix            4                894           -2  \n95   Netflix          740               1629            0  \n96   Netflix         5339               6228            2  \n97   Netflix         7677               8566            3  \n98   Netflix        14279              15168            1  \n99     Pathé            0                889            5  \n\n[334 rows x 21 columns]\n"
     ]
    }
   ],
   "source": [
    "mov.print_files()"
   ]
  },
  {
   "cell_type": "code",
   "execution_count": 4,
   "metadata": {},
   "outputs": [
    {
     "output_type": "stream",
     "name": "stdout",
     "text": [
      "                                                Actors  \\\n0    Michelle Williams, Christopher Plummer, Mark W...   \n1    Dwayne Johnson, Kevin Hart, Jack Black, Karen ...   \n10   Chadwick Boseman, Michael B. Jordan, Lupita Ny...   \n100  Margot Robbie, Sebastian Stan, Allison Janney,...   \n101  Jennifer Lawrence, Chris Pratt, Michael Sheen,...   \n\n                                                Awards     BoxOffice  \\\n0       Nominated for 1 Oscar. Another 14 nominations.   $25,113,707   \n1                             6 wins & 19 nominations.  $404,540,171   \n10   Won 3 Oscars. Another 109 wins & 274 nominations.  $700,426,566   \n100    Won 1 Oscar. Another 44 wins & 125 nominations.   $30,014,539   \n101  Nominated for 2 Oscars. Another 1 win & 10 nom...  $100,014,699   \n\n            Director                                       Genre Metascore  \\\n0       Ridley Scott  Biography, Crime, Drama, Mystery, Thriller        72   \n1        Jake Kasdan          Action, Adventure, Comedy, Fantasy        58   \n10      Ryan Coogler                   Action, Adventure, Sci-Fi        88   \n100  Craig Gillespie             Biography, Comedy, Drama, Sport        77   \n101    Morten Tyldum            Drama, Romance, Sci-Fi, Thriller        41   \n\n                                                  Plot  \\\n0    The story of the kidnapping of 16-year-old Joh...   \n1    Four teenagers are sucked into a magical video...   \n10   T'Challa, heir to the hidden but advanced king...   \n100  Competitive ice skater Tonya Harding rises amo...   \n101  A malfunction in a sleeping pod on a spacecraf...   \n\n                                                Poster  \\\n0    https://m.media-amazon.com/images/M/MV5BNjY3Mj...   \n1    https://m.media-amazon.com/images/M/MV5BODQ0ND...   \n10   https://m.media-amazon.com/images/M/MV5BMTg1MT...   \n100  https://m.media-amazon.com/images/M/MV5BMjI5MD...   \n101  https://m.media-amazon.com/images/M/MV5BZjk4ZT...   \n\n                                            Production  Rated  ...  \\\n0                       Scott Free Productions, Redrum      R  ...   \n1    Matt Tolmach Productions, Radar Pictures, Seve...  PG-13  ...   \n10                                Walt Disney Pictures  PG-13  ...   \n100                                           IA Films      R  ...   \n101  Start Motion Pictures, Original Film, LStar Ca...  PG-13  ...   \n\n        Released  Runtime                           Title  \\\n0    25 Dec 2017  132 min      All the Money in the World   \n1    20 Dec 2017  119 min  Jumanji: Welcome to the Jungle   \n10   16 Feb 2018  134 min                   Black Panther   \n100  19 Jan 2018  119 min                        I, Tonya   \n101  21 Dec 2016  116 min                      Passengers   \n\n                                                Writer  Year  imdbRating  \\\n0    David Scarpa, John Pearson (based on the book ...  2017         6.8   \n1    Chris McKenna (screenplay by), Erik Sommers (s...  2017         6.9   \n10   Ryan Coogler, Joe Robert Cole, Stan Lee (based...  2018         7.3   \n100                                      Steven Rogers  2017         7.5   \n101                                        Jon Spaihts  2016         7.0   \n\n      Format Days to View Days Since Release  True Rating  \n0    Genesis           13               1241            1  \n1    Genesis           19               1246            3  \n10   Genesis            1               1191            3  \n100   Amazon          313               1181            1  \n101  Netflix          748               1610           -1  \n\n[5 rows x 21 columns]\n"
     ]
    }
   ],
   "source": [
    "mov.preview_files()"
   ]
  },
  {
   "cell_type": "code",
   "execution_count": 5,
   "metadata": {},
   "outputs": [],
   "source": [
    "new_df = mov.get_df()"
   ]
  },
  {
   "cell_type": "code",
   "execution_count": 6,
   "metadata": {},
   "outputs": [
    {
     "output_type": "stream",
     "name": "stdout",
     "text": [
      "In create features\n",
      "Writer column cleaned and assigned\n",
      "Dataframe assigned for features\n",
      "Plot lemma column created\n",
      "Form columns split\n",
      "Created new dataframes of split columns\n",
      "Joining dataframes\n",
      "Dataframes joined\n"
     ]
    }
   ],
   "source": [
    "mov.create_features()"
   ]
  },
  {
   "cell_type": "code",
   "execution_count": 7,
   "metadata": {},
   "outputs": [
    {
     "output_type": "stream",
     "name": "stdout",
     "text": [
      "                                                Actors  \\\n0    [michellewilliams, christopherplummer, markwah...   \n1    [dwaynejohnson, kevinhart, jackblack, karengil...   \n10   [chadwickboseman, michaelb.jordan, lupitanyong...   \n100  [margotrobbie, sebastianstan, allisonjanney, j...   \n101  [jenniferlawrence, chrispratt, michaelsheen, l...   \n\n                                                Awards     BoxOffice  \\\n0       Nominated for 1 Oscar. Another 14 nominations.   $25,113,707   \n1                             6 wins & 19 nominations.  $404,540,171   \n10   Won 3 Oscars. Another 109 wins & 274 nominations.  $700,426,566   \n100    Won 1 Oscar. Another 44 wins & 125 nominations.   $30,014,539   \n101  Nominated for 2 Oscars. Another 1 win & 10 nom...  $100,014,699   \n\n             Director                                         Genre Metascore  \\\n0       [ridleyscott]  [biography, crime, drama, mystery, thriller]        72   \n1        [jakekasdan]          [action, adventure, comedy, fantasy]        58   \n10      [ryancoogler]                   [action, adventure, sci-fi]        88   \n100  [craiggillespie]             [biography, comedy, drama, sport]        77   \n101    [mortentyldum]            [drama, romance, sci-fi, thriller]        41   \n\n                                                  Plot  \\\n0    The story of the kidnapping of 16-year-old Joh...   \n1    Four teenagers are sucked into a magical video...   \n10   T'Challa, heir to the hidden but advanced king...   \n100  Competitive ice skater Tonya Harding rises amo...   \n101  A malfunction in a sleeping pod on a spacecraf...   \n\n                                                Poster  \\\n0    https://m.media-amazon.com/images/M/MV5BNjY3Mj...   \n1    https://m.media-amazon.com/images/M/MV5BODQ0ND...   \n10   https://m.media-amazon.com/images/M/MV5BMTg1MT...   \n100  https://m.media-amazon.com/images/M/MV5BMjI5MD...   \n101  https://m.media-amazon.com/images/M/MV5BZjk4ZT...   \n\n                                            Production  Rated  ...  \\\n0                       [scottfreeproductions, redrum]      R  ...   \n1    [matttolmachproductions, radarpictures, sevenb...  PG-13  ...   \n10                                [waltdisneypictures]  PG-13  ...   \n100                                          [iafilms]      R  ...   \n101  [startmotionpictures, originalfilm, lstarcapit...  PG-13  ...   \n\n       Writer_6          Writer_7           Writer_8    Writer_9 Writer_10  \\\n0         other             other              other       other     other   \n1    gregtaylor  chrisvanallsburg  jonathanhensleigh  gregtaylor     other   \n10        other             other              other       other     other   \n100       other             other              other       other     other   \n101       other             other              other       other     other   \n\n     Writer_11 Writer_12 Writer_13 Writer_14  Writer_15  \n0        other     other     other     other      other  \n1        other     other     other     other      other  \n10       other     other     other     other      other  \n100      other     other     other     other      other  \n101      other     other     other     other      other  \n\n[5 rows x 65 columns]\n"
     ]
    }
   ],
   "source": [
    "mov.preview_files()"
   ]
  },
  {
   "cell_type": "code",
   "execution_count": 8,
   "metadata": {},
   "outputs": [],
   "source": [
    "df = mov.get_df()"
   ]
  },
  {
   "cell_type": "code",
   "execution_count": 9,
   "metadata": {
    "tags": [
     "outputPrepend"
    ]
   },
   "outputs": [
    {
     "output_type": "stream",
     "name": "stdout",
     "text": [
      "    other       other     other   \n84         other             other              other       other     other   \n85         other             other              other       other     other   \n86         other             other              other       other     other   \n87         other             other              other       other     other   \n88         other             other              other       other     other   \n89         other             other              other       other     other   \n9          other             other              other       other     other   \n90         other             other              other       other     other   \n91         other             other              other       other     other   \n92         other             other              other       other     other   \n93         other             other              other       other     other   \n94         other             other              other       other     other   \n95         other             other              other       other     other   \n96         other             other              other       other     other   \n97         other             other              other       other     other   \n98         other             other              other       other     other   \n99         other             other              other       other     other   \n\n     Writer_11 Writer_12 Writer_13 Writer_14  Writer_15  \n0        other     other     other     other      other  \n1        other     other     other     other      other  \n10       other     other     other     other      other  \n100      other     other     other     other      other  \n101      other     other     other     other      other  \n102      other     other     other     other      other  \n103      other     other     other     other      other  \n104      other     other     other     other      other  \n105      other     other     other     other      other  \n106      other     other     other     other      other  \n107      other     other     other     other      other  \n108      other     other     other     other      other  \n109      other     other     other     other      other  \n11       other     other     other     other      other  \n110      other     other     other     other      other  \n111      other     other     other     other      other  \n112      other     other     other     other      other  \n113      other     other     other     other      other  \n114      other     other     other     other      other  \n115      other     other     other     other      other  \n116      other     other     other     other      other  \n117      other     other     other     other      other  \n118      other     other     other     other      other  \n119      other     other     other     other      other  \n12       other     other     other     other      other  \n120      other     other     other     other      other  \n121      other     other     other     other      other  \n122      other     other     other     other      other  \n123      other     other     other     other      other  \n124      other     other     other     other      other  \n..         ...       ...       ...       ...        ...  \n72       other     other     other     other      other  \n73       other     other     other     other      other  \n74       other     other     other     other      other  \n75       other     other     other     other      other  \n76       other     other     other     other      other  \n77       other     other     other     other      other  \n78       other     other     other     other      other  \n79       other     other     other     other      other  \n8        other     other     other     other      other  \n80       other     other     other     other      other  \n81       other     other     other     other      other  \n82       other     other     other     other      other  \n83       other     other     other     other      other  \n84       other     other     other     other      other  \n85       other     other     other     other      other  \n86       other     other     other     other      other  \n87       other     other     other     other      other  \n88       other     other     other     other      other  \n89       other     other     other     other      other  \n9        other     other     other     other      other  \n90       other     other     other     other      other  \n91       other     other     other     other      other  \n92       other     other     other     other      other  \n93       other     other     other     other      other  \n94       other     other     other     other      other  \n95       other     other     other     other      other  \n96       other     other     other     other      other  \n97       other     other     other     other      other  \n98       other     other     other     other      other  \n99       other     other     other     other      other  \n\n[334 rows x 65 columns]\n"
     ]
    }
   ],
   "source": [
    "mov.print_files()"
   ]
  },
  {
   "cell_type": "code",
   "execution_count": 10,
   "metadata": {},
   "outputs": [
    {
     "output_type": "stream",
     "name": "stdout",
     "text": [
      "Index(['Actors', 'Awards', 'BoxOffice', 'Director', 'Genre', 'Metascore',\n       'Plot', 'Poster', 'Production', 'Rated', 'Ratings', 'Released',\n       'Runtime', 'Title', 'Writer', 'Year', 'imdbRating', 'Format',\n       'Days to View', 'Days Since Release', 'True Rating', 'Plot Lemma',\n       'Genre_0', 'Genre_1', 'Genre_2', 'Genre_3', 'Genre_4', 'Genre_5',\n       'Genre_6', 'Genre_7', 'Actors_0', 'Actors_1', 'Actors_2', 'Actors_3',\n       'Director_0', 'Director_1', 'Director_2', 'Director_3', 'Production_0',\n       'Production_1', 'Production_2', 'Production_3', 'Production_4',\n       'Production_5', 'Production_6', 'Production_7', 'Production_8',\n       'Production_9', 'Production_10', 'Writer_0', 'Writer_1', 'Writer_2',\n       'Writer_3', 'Writer_4', 'Writer_5', 'Writer_6', 'Writer_7', 'Writer_8',\n       'Writer_9', 'Writer_10', 'Writer_11', 'Writer_12', 'Writer_13',\n       'Writer_14', 'Writer_15'],\n      dtype='object')\n"
     ]
    }
   ],
   "source": [
    "print(df.columns)"
   ]
  }
 ]
}