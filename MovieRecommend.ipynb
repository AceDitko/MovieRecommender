{
 "metadata": {
  "language_info": {
   "codemirror_mode": {
    "name": "ipython",
    "version": 3
   },
   "file_extension": ".py",
   "mimetype": "text/x-python",
   "name": "python",
   "nbconvert_exporter": "python",
   "pygments_lexer": "ipython3",
   "version": "3.8.5"
  },
  "orig_nbformat": 2,
  "kernelspec": {
   "name": "python385jvsc74a57bd003ab3485111022ddd6ba22a8d84f7ffce4657f918741b21430c2e524f1a27e7c",
   "display_name": "Python 3.8.5 64-bit ('venv': venv)",
   "language": "python"
  },
  "metadata": {
   "interpreter": {
    "hash": "626ea8246a82476de376e6358a0371caa909bee52e0ad3b48293f4a510f9aa50"
   }
  }
 },
 "nbformat": 4,
 "nbformat_minor": 2,
 "cells": [
  {
   "cell_type": "code",
   "execution_count": 1,
   "metadata": {},
   "outputs": [],
   "source": [
    "from MovieRecommend import Movies"
   ]
  },
  {
   "cell_type": "code",
   "execution_count": 2,
   "metadata": {
    "tags": []
   },
   "outputs": [
    {
     "output_type": "stream",
     "name": "stdout",
     "text": [
      "Loading saved movie database...\n"
     ]
    }
   ],
   "source": [
    "mov = Movies()"
   ]
  },
  {
   "cell_type": "code",
   "execution_count": 3,
   "metadata": {
    "tags": [
     "outputPrepend"
    ]
   },
   "outputs": [
    {
     "output_type": "stream",
     "name": "stdout",
     "text": [
      "                      Crime, Drama  Nicolas Winding Refn   \n337          Action, Adventure, Crime, Thriller         Clark Johnson   \n\n                                                Writer  \\\n0    David Scarpa, John Pearson (based on the book ...   \n1    Chris McKenna (screenplay by), Erik Sommers (s...   \n2    Derek Kolstad, Derek Kolstad (based on charact...   \n3    Aaron Sorkin (written for the screen by), Moll...   \n4                                     Anthony McCarten   \n..                                                 ...   \n333  Lexi Alexander (story), Dougie Brimson (story)...   \n334  Peter Benchley (screenplay), Carl Gottlieb (sc...   \n335  S.S. Wilson (story), Brent Maddock (story), Ro...   \n336    Hossein Amini (screenplay), James Sallis (book)   \n337  Robert Hamner (characters), Ron Mita (story), ...   \n\n                                                Actors  \\\n0    Michelle Williams, Christopher Plummer, Mark W...   \n1    Dwayne Johnson, Kevin Hart, Jack Black, Karen ...   \n2    Keanu Reeves, Riccardo Scamarcio, Ian McShane,...   \n3    Jessica Chastain, Idris Elba, Kevin Costner, M...   \n4    Gary Oldman, Kristin Scott Thomas, Ben Mendels...   \n..                                                 ...   \n333  Elijah Wood, Charlie Hunnam, Claire Forlani, M...   \n334  Roy Scheider, Robert Shaw, Richard Dreyfuss, L...   \n335  Kevin Bacon, Fred Ward, Finn Carter, Michael G...   \n336  Ryan Gosling, Carey Mulligan, Bryan Cranston, ...   \n337  Samuel L. Jackson, Colin Farrell, Michelle Rod...   \n\n                                                  Plot  ...  \\\n0    The story of the kidnapping of 16-year-old Joh...  ...   \n1    Four teenagers are sucked into a magical video...  ...   \n2    After returning to the criminal underworld to ...  ...   \n3    The true story of Molly Bloom, an Olympic-clas...  ...   \n4    In May 1940, the fate of World War II hangs on...  ...   \n..                                                 ...  ...   \n333  A wrongfully expelled Harvard undergrad moves ...  ...   \n334  When a killer shark unleashes chaos on a beach...  ...   \n335  Natives of a small isolated town defend themse...  ...   \n336  A mysterious Hollywood stuntman and mechanic m...  ...   \n337  An imprisoned drug kingpin offers a huge cash ...  ...   \n\n                                               Ratings Metascore imdbRating  \\\n0    [{'Source': 'Internet Movie Database', 'Value'...        72        6.8   \n1    [{'Source': 'Internet Movie Database', 'Value'...        58        6.9   \n2    [{'Source': 'Internet Movie Database', 'Value'...        75        7.5   \n3    [{'Source': 'Internet Movie Database', 'Value'...        71        7.4   \n4    [{'Source': 'Internet Movie Database', 'Value'...        75        7.4   \n..                                                 ...       ...        ...   \n333  [{'Source': 'Internet Movie Database', 'Value'...        55        7.5   \n334  [{'Source': 'Internet Movie Database', 'Value'...        87        8.0   \n335  [{'Source': 'Internet Movie Database', 'Value'...        65        7.1   \n336  [{'Source': 'Internet Movie Database', 'Value'...        78        7.8   \n337  [{'Source': 'Internet Movie Database', 'Value'...        45        6.0   \n\n        BoxOffice                                         Production   Format  \\\n0     $25,113,707                     Scott Free Productions, Redrum  Genesis   \n1    $404,540,171  Seven Bucks Productions, Columbia Pictures, Ra...  Genesis   \n2     $92,029,184                    Thunder Road Pictures, 87eleven    NowTv   \n3     $28,780,744           Pascal Pictures, The Mark Gordon Company  Genesis   \n4     $56,468,410                                Working Title Films  Genesis   \n..            ...                                                ...      ...   \n333      $346,830                         Warner Brothers/Seven Arts  Netflix   \n334  $260,758,300       Universal Pictures, Zanuck/Brown Productions  Netflix   \n335   $16,667,084                                 Universal Pictures  Netflix   \n336   $35,061,555               Marc Platt Productions, Motel Movies  Netflix   \n337  $116,934,650                                      Original Film  Netflix   \n\n    Viewing Date Days to View Days Since Release  True Rating  \n0     07/01/2018           13               1254            1  \n1     08/01/2018           19               1259            3  \n2     11/01/2018          328               1565            3  \n3     12/01/2018           11               1247            3  \n4     20/01/2018            8               1236            1  \n..           ...          ...                ...          ...  \n333   09/05/2021         5721               5744            0  \n334   21/05/2021        16583              16594            2  \n335   23/05/2021        11286              11295            3  \n336   30/05/2021         3537               3539            5  \n337   31/05/2021         6387               6388            1  \n\n[338 rows x 22 columns]\n"
     ]
    }
   ],
   "source": [
    "mov.print_files()"
   ]
  },
  {
   "cell_type": "code",
   "execution_count": 4,
   "metadata": {},
   "outputs": [
    {
     "output_type": "stream",
     "name": "stdout",
     "text": [
      "                            Title  Year  Rated     Released  Runtime  \\\n0      All the Money in the World  2017      R  25 Dec 2017  132 min   \n1  Jumanji: Welcome to the Jungle  2017  PG-13  20 Dec 2017  119 min   \n2            John Wick: Chapter 2  2017      R  10 Feb 2017  122 min   \n3                    Molly's Game  2017      R  05 Jan 2018  140 min   \n4                    Darkest Hour  2017  PG-13  22 Dec 2017  125 min   \n\n                                        Genre        Director  \\\n0  Biography, Crime, Drama, Mystery, Thriller    Ridley Scott   \n1          Action, Adventure, Comedy, Fantasy     Jake Kasdan   \n2                     Action, Crime, Thriller  Chad Stahelski   \n3                     Biography, Crime, Drama    Aaron Sorkin   \n4              Biography, Drama, History, War      Joe Wright   \n\n                                              Writer  \\\n0  David Scarpa, John Pearson (based on the book ...   \n1  Chris McKenna (screenplay by), Erik Sommers (s...   \n2  Derek Kolstad, Derek Kolstad (based on charact...   \n3  Aaron Sorkin (written for the screen by), Moll...   \n4                                   Anthony McCarten   \n\n                                              Actors  \\\n0  Michelle Williams, Christopher Plummer, Mark W...   \n1  Dwayne Johnson, Kevin Hart, Jack Black, Karen ...   \n2  Keanu Reeves, Riccardo Scamarcio, Ian McShane,...   \n3  Jessica Chastain, Idris Elba, Kevin Costner, M...   \n4  Gary Oldman, Kristin Scott Thomas, Ben Mendels...   \n\n                                                Plot  ...  \\\n0  The story of the kidnapping of 16-year-old Joh...  ...   \n1  Four teenagers are sucked into a magical video...  ...   \n2  After returning to the criminal underworld to ...  ...   \n3  The true story of Molly Bloom, an Olympic-clas...  ...   \n4  In May 1940, the fate of World War II hangs on...  ...   \n\n                                             Ratings Metascore imdbRating  \\\n0  [{'Source': 'Internet Movie Database', 'Value'...        72        6.8   \n1  [{'Source': 'Internet Movie Database', 'Value'...        58        6.9   \n2  [{'Source': 'Internet Movie Database', 'Value'...        75        7.5   \n3  [{'Source': 'Internet Movie Database', 'Value'...        71        7.4   \n4  [{'Source': 'Internet Movie Database', 'Value'...        75        7.4   \n\n      BoxOffice                                         Production   Format  \\\n0   $25,113,707                     Scott Free Productions, Redrum  Genesis   \n1  $404,540,171  Seven Bucks Productions, Columbia Pictures, Ra...  Genesis   \n2   $92,029,184                    Thunder Road Pictures, 87eleven    NowTv   \n3   $28,780,744           Pascal Pictures, The Mark Gordon Company  Genesis   \n4   $56,468,410                                Working Title Films  Genesis   \n\n  Viewing Date Days to View Days Since Release  True Rating  \n0   07/01/2018           13               1254            1  \n1   08/01/2018           19               1259            3  \n2   11/01/2018          328               1565            3  \n3   12/01/2018           11               1247            3  \n4   20/01/2018            8               1236            1  \n\n[5 rows x 22 columns]\n"
     ]
    }
   ],
   "source": [
    "mov.preview_files()"
   ]
  },
  {
   "cell_type": "code",
   "execution_count": 5,
   "metadata": {},
   "outputs": [],
   "source": [
    "new_df = mov.get_df()"
   ]
  },
  {
   "cell_type": "code",
   "execution_count": 6,
   "metadata": {},
   "outputs": [
    {
     "output_type": "stream",
     "name": "stdout",
     "text": [
      "In create features\n",
      "Writer column cleaned and assigned\n",
      "Dataframe assigned for features\n",
      "/home/jake/Documents/VSCode_Projects/MovieRecommend/MovieRecommend.py:110: FutureWarning: The default value of regex will change from True to False in a future version. In addition, single character regular expressions will*not* be treated as literal strings when regex=True.\n",
      "  in_df['BoxOffice'] = in_df['BoxOffice'].str.replace('$','')\n",
      "Plot lemma column created\n",
      "Form columns split\n",
      "Created new dataframes of split columns\n",
      "Joining dataframes\n",
      "Dataframes joined\n"
     ]
    }
   ],
   "source": [
    "mov.train_model()"
   ]
  },
  {
   "cell_type": "code",
   "execution_count": 7,
   "metadata": {},
   "outputs": [
    {
     "output_type": "stream",
     "name": "stdout",
     "text": [
      "                            Title  Year  Rated  Released  Runtime  \\\n0      All the Money in the World  2017      R  25/12/17    132.0   \n1  Jumanji: Welcome to the Jungle  2017  PG-13  20/12/17    119.0   \n2            John Wick: Chapter 2  2017      R  10/02/17    122.0   \n3                    Molly's Game  2017      R  05/01/18    140.0   \n4                    Darkest Hour  2017  PG-13  22/12/17    125.0   \n\n                                          Genre         Director  \\\n0  [biography, crime, drama, mystery, thriller]    [ridleyscott]   \n1          [action, adventure, comedy, fantasy]     [jakekasdan]   \n2                     [action, crime, thriller]  [chadstahelski]   \n3                     [biography, crime, drama]    [aaronsorkin]   \n4              [biography, drama, history, war]      [joewright]   \n\n                                              Writer  \\\n0                         [davidscarpa, johnpearson]   \n1  [chrismckenna, eriksommers, scottrosenberg, je...   \n2                       [derekkolstad, derekkolstad]   \n3                          [aaronsorkin, mollybloom]   \n4                                  [anthonymccarten]   \n\n                                              Actors  \\\n0  [michellewilliams, christopherplummer, markwah...   \n1  [dwaynejohnson, kevinhart, jackblack, karengil...   \n2  [keanureeves, riccardoscamarcio, ianmcshane, r...   \n3  [jessicachastain, idriselba, kevincostner, mic...   \n4  [garyoldman, kristinscottthomas, benmendelsohn...   \n\n                                                Plot  ...    Writer_6  \\\n0  The story of the kidnapping of 16-year-old Joh...  ...       other   \n1  Four teenagers are sucked into a magical video...  ...  gregtaylor   \n2  After returning to the criminal underworld to ...  ...       other   \n3  The true story of Molly Bloom, an Olympic-clas...  ...       other   \n4  In May 1940, the fate of World War II hangs on...  ...       other   \n\n           Writer_7           Writer_8    Writer_9  Writer_10  Writer_11  \\\n0             other              other       other      other      other   \n1  chrisvanallsburg  jonathanhensleigh  gregtaylor      other      other   \n2             other              other       other      other      other   \n3             other              other       other      other      other   \n4             other              other       other      other      other   \n\n  Writer_12 Writer_13 Writer_14  Writer_15  \n0     other     other     other      other  \n1     other     other     other      other  \n2     other     other     other      other  \n3     other     other     other      other  \n4     other     other     other      other  \n\n[5 rows x 68 columns]\n"
     ]
    }
   ],
   "source": [
    "mov.preview_files()"
   ]
  },
  {
   "cell_type": "code",
   "execution_count": 8,
   "metadata": {},
   "outputs": [],
   "source": [
    "df = mov.get_df()"
   ]
  },
  {
   "cell_type": "code",
   "execution_count": 9,
   "metadata": {
    "tags": [
     "outputPrepend"
    ]
   },
   "outputs": [
    {
     "output_type": "stream",
     "name": "stdout",
     "text": [
      "                        Jaws  1975     PG  20/06/75    124.0   \n335                         Tremors  1990  PG-13  19/01/90     96.0   \n336                           Drive  2011      R  16/09/11    100.0   \n337                        S.W.A.T.  2003  PG-13  08/08/03    117.0   \n\n                                            Genre              Director  \\\n0    [biography, crime, drama, mystery, thriller]         [ridleyscott]   \n1            [action, adventure, comedy, fantasy]          [jakekasdan]   \n2                       [action, crime, thriller]       [chadstahelski]   \n3                       [biography, crime, drama]         [aaronsorkin]   \n4                [biography, drama, history, war]           [joewright]   \n..                                            ...                   ...   \n333                    [crime, drama, sport, war]       [lexialexander]   \n334                         [adventure, thriller]     [stevenspielberg]   \n335                              [comedy, horror]        [ronunderwood]   \n336                                [crime, drama]  [nicolaswindingrefn]   \n337          [action, adventure, crime, thriller]        [clarkjohnson]   \n\n                                                Writer  \\\n0                           [davidscarpa, johnpearson]   \n1    [chrismckenna, eriksommers, scottrosenberg, je...   \n2                         [derekkolstad, derekkolstad]   \n3                            [aaronsorkin, mollybloom]   \n4                                    [anthonymccarten]   \n..                                                 ...   \n333  [lexialexander, dougiebrimson, dougiebrimson, ...   \n334       [peterbenchley, carlgottlieb, peterbenchley]   \n335  [s.s.wilson, brentmaddock, ronunderwood, s.s.w...   \n336                        [hosseinamini, jamessallis]   \n337  [roberthamner, ronmita, jimmcclain, davidayer,...   \n\n                                                Actors  \\\n0    [michellewilliams, christopherplummer, markwah...   \n1    [dwaynejohnson, kevinhart, jackblack, karengil...   \n2    [keanureeves, riccardoscamarcio, ianmcshane, r...   \n3    [jessicachastain, idriselba, kevincostner, mic...   \n4    [garyoldman, kristinscottthomas, benmendelsohn...   \n..                                                 ...   \n333  [elijahwood, charliehunnam, claireforlani, mar...   \n334  [royscheider, robertshaw, richarddreyfuss, lor...   \n335   [kevinbacon, fredward, finncarter, michaelgross]   \n336  [ryangosling, careymulligan, bryancranston, al...   \n337  [samuell.jackson, colinfarrell, michellerodrig...   \n\n                                                  Plot  ...    Writer_6  \\\n0    The story of the kidnapping of 16-year-old Joh...  ...       other   \n1    Four teenagers are sucked into a magical video...  ...  gregtaylor   \n2    After returning to the criminal underworld to ...  ...       other   \n3    The true story of Molly Bloom, an Olympic-clas...  ...       other   \n4    In May 1940, the fate of World War II hangs on...  ...       other   \n..                                                 ...  ...         ...   \n333  A wrongfully expelled Harvard undergrad moves ...  ...       other   \n334  When a killer shark unleashes chaos on a beach...  ...       other   \n335  Natives of a small isolated town defend themse...  ...       other   \n336  A mysterious Hollywood stuntman and mechanic m...  ...       other   \n337  An imprisoned drug kingpin offers a huge cash ...  ...       other   \n\n             Writer_7           Writer_8    Writer_9  Writer_10  Writer_11  \\\n0               other              other       other      other      other   \n1    chrisvanallsburg  jonathanhensleigh  gregtaylor      other      other   \n2               other              other       other      other      other   \n3               other              other       other      other      other   \n4               other              other       other      other      other   \n..                ...                ...         ...        ...        ...   \n333             other              other       other      other      other   \n334             other              other       other      other      other   \n335             other              other       other      other      other   \n336             other              other       other      other      other   \n337             other              other       other      other      other   \n\n    Writer_12 Writer_13 Writer_14  Writer_15  \n0       other     other     other      other  \n1       other     other     other      other  \n2       other     other     other      other  \n3       other     other     other      other  \n4       other     other     other      other  \n..        ...       ...       ...        ...  \n333     other     other     other      other  \n334     other     other     other      other  \n335     other     other     other      other  \n336     other     other     other      other  \n337     other     other     other      other  \n\n[338 rows x 68 columns]\n"
     ]
    }
   ],
   "source": [
    "mov.print_files()"
   ]
  },
  {
   "cell_type": "code",
   "execution_count": 10,
   "metadata": {},
   "outputs": [
    {
     "output_type": "stream",
     "name": "stdout",
     "text": [
      "Index(['Title', 'Year', 'Rated', 'Released', 'Runtime', 'Genre', 'Director',\n       'Writer', 'Actors', 'Plot', 'Awards', 'Poster', 'Ratings', 'Metascore',\n       'imdbRating', 'BoxOffice', 'Production', 'Format', 'Viewing Date',\n       'Days to View', 'Days Since Release', 'True Rating', 'Is_cinema',\n       'Is_weekday', 'Plot Lemma', 'Genre_0', 'Genre_1', 'Genre_2', 'Genre_3',\n       'Genre_4', 'Genre_5', 'Genre_6', 'Genre_7', 'Actors_0', 'Actors_1',\n       'Actors_2', 'Actors_3', 'Director_0', 'Director_1', 'Director_2',\n       'Director_3', 'Production_0', 'Production_1', 'Production_2',\n       'Production_3', 'Production_4', 'Production_5', 'Production_6',\n       'Production_7', 'Production_8', 'Production_9', 'Production_10',\n       'Writer_0', 'Writer_1', 'Writer_2', 'Writer_3', 'Writer_4', 'Writer_5',\n       'Writer_6', 'Writer_7', 'Writer_8', 'Writer_9', 'Writer_10',\n       'Writer_11', 'Writer_12', 'Writer_13', 'Writer_14', 'Writer_15'],\n      dtype='object')\n"
     ]
    }
   ],
   "source": [
    "print(df.columns)"
   ]
  },
  {
   "cell_type": "code",
   "execution_count": 93,
   "metadata": {
    "tags": []
   },
   "outputs": [
    {
     "output_type": "stream",
     "name": "stdout",
     "text": [
      "['Rated', 'Format', 'Is_cinema', 'Is_weekday', 'Genre_0', 'Genre_1', 'Genre_2', 'Genre_3', 'Genre_4', 'Genre_5', 'Genre_6', 'Genre_7', 'Actors_0', 'Actors_1', 'Actors_2', 'Actors_3', 'Director_0', 'Director_1', 'Director_2', 'Director_3', 'Production_0', 'Production_1', 'Production_2', 'Production_3', 'Production_4', 'Production_5', 'Production_6', 'Production_7', 'Production_8', 'Production_9', 'Production_10', 'Writer_0', 'Writer_1', 'Writer_2', 'Writer_3', 'Writer_4', 'Writer_5', 'Writer_6', 'Writer_7', 'Writer_8', 'Writer_9', 'Writer_10', 'Writer_11', 'Writer_12', 'Writer_13', 'Writer_14', 'Writer_15']\nTfidfVectorizer()\n<class 'pandas.core.series.Series'>\n"
     ]
    }
   ],
   "source": [
    "from sklearn.tree import DecisionTreeRegressor\n",
    "from sklearn.tree import DecisionTreeClassifier\n",
    "from sklearn.metrics import mean_absolute_error, mean_squared_error\n",
    "from sklearn.preprocessing import MultiLabelBinarizer\n",
    "from sklearn.model_selection import train_test_split\n",
    "from sklearn.ensemble import RandomForestRegressor\n",
    "from sklearn.impute import SimpleImputer\n",
    "from sklearn.impute import KNNImputer\n",
    "from sklearn.preprocessing import OneHotEncoder\n",
    "from sklearn.compose import ColumnTransformer\n",
    "from sklearn.pipeline import Pipeline\n",
    "from sklearn.model_selection import GridSearchCV\n",
    "from sklearn.feature_extraction.text import TfidfVectorizer\n",
    "import numpy as np\n",
    "import pandas as pd\n",
    "\n",
    "numerical_cols = ['BoxOffice', 'Metascore', 'Runtime', 'Year', 'imdbRating', 'Days to View', 'Days Since Release']\n",
    "categorical_cols = ['Rated', 'Format', 'Is_cinema', 'Is_weekday']\n",
    "plots = ['Plot']\n",
    "\n",
    "form_cols = ['Genre', 'Actors', 'Director', 'Production', 'Writer']\n",
    "\n",
    "for col in form_cols:\n",
    "    col_str = col + \"_\"\n",
    "    in_cols = [col for col in df.columns if col_str in col]\n",
    "    for col2 in in_cols:\n",
    "        categorical_cols.append(col2)\n",
    "\n",
    "print(categorical_cols)\n",
    "features = numerical_cols + categorical_cols + plots\n",
    "\n",
    "for i in features:\n",
    "    df[i] = df[i].replace('N/A',np.NaN)\n",
    "    df[i] = df[i].replace('',np.NaN)\n",
    "    df[i] = df[i].replace(' ',np.NaN)\n",
    "    df[i] = df[i].replace('missing_value',np.NaN)\n",
    "\n",
    "numerical_transformer = SimpleImputer(missing_values=np.NaN,\n",
    "                                      strategy='median')\n",
    "\n",
    "categorical_transformer = Pipeline(steps=[\n",
    "    ('imputer', SimpleImputer(missing_values=np.NaN,\n",
    "                              strategy='most_frequent')),\n",
    "    ('onehot', OneHotEncoder(handle_unknown='ignore'))\n",
    "])\n",
    "\n",
    "tfidf_transformer = TfidfVectorizer()\n",
    "\n",
    "tfidf_transformer = TfidfVectorizer()\n",
    "tfidf_transformer.fit(df['Plot'])\n",
    "print(tfidf_transformer)\n",
    "j = tfidf_transformer.transform(df['Plot'])\n",
    "\n",
    "j_df = pd.DataFrame(j.toarray(), columns = tfidf_transformer.get_feature_names())\n",
    "res = pd.concat([df, j_df], axis = 1)\n",
    "#print(res.head())\n",
    "\n",
    "features += tfidf_transformer.get_feature_names()\n",
    "#print(features)\n",
    "\n",
    "preprocessor = ColumnTransformer(\n",
    "    transformers=[\n",
    "        ('num', numerical_transformer, numerical_cols),\n",
    "        ('cat', categorical_transformer, categorical_cols),\n",
    "        #('tfidf', Tfidf, plots)\n",
    "    ]\n",
    ")\n",
    "\n",
    "x = res[features]\n",
    "y = res['True Rating']\n",
    "\n",
    "X_train, X_val, y_train, y_val = train_test_split(x, y, random_state = 0)\n",
    "#print(X_train)\n",
    "#print(x[tfidf_transformer.get_feature_names()])\n",
    "print(type(df['Plot']))\n",
    "#print(j)"
   ]
  },
  {
   "cell_type": "code",
   "execution_count": 106,
   "metadata": {},
   "outputs": [],
   "source": [
    "from sklearn.base import BaseEstimator, TransformerMixin\n",
    "\n",
    "class Tfidf(BaseEstimator, TransformerMixin):\n",
    "    def __init__(self, variables=None) -> None:\n",
    "        if not isinstance(variables, list):\n",
    "            self.variables = [variables]\n",
    "        else:\n",
    "            self.variables = variables\n",
    "       \n",
    "    def fit(self, X, y=None):\n",
    "        self.tfidf_transformer = TfidfVectorizer()\n",
    "        X = X[self.variables].squeeze()\n",
    "        #print(type(X[self.variables]))\n",
    "        self.tfidf_transformer.fit(X)\n",
    "        self.feature_names = self.tfidf_transformer.get_feature_names()\n",
    "        return self\n",
    "    \n",
    "    def transform(self, X):\n",
    "        X = X[self.variables].squeeze()\n",
    "        #print(X)\n",
    "        j = self.tfidf_transformer.transform(X)\n",
    "        print(j)\n",
    "        j_df = pd.DataFrame(j.toarray(),\n",
    "                            columns = self.feature_names)\n",
    "        print(j_df)\n",
    "        return j_df"
   ]
  },
  {
   "cell_type": "code",
   "execution_count": 20,
   "metadata": {},
   "outputs": [],
   "source": [
    "X_train_xfm = preprocessor.fit_transform(X_train)"
   ]
  },
  {
   "cell_type": "code",
   "execution_count": 107,
   "metadata": {},
   "outputs": [
    {
     "output_type": "stream",
     "name": "stdout",
     "text": [
      "  (0, 2351)\t0.15726547956230746\n  (0, 2179)\t0.15703457871613696\n  (0, 2154)\t0.19129103806777573\n  (0, 2145)\t0.13517755628117162\n  (0, 1976)\t0.2895655702848604\n  (0, 1603)\t0.3111531299592315\n  (0, 1441)\t0.2373447759271102\n  (0, 1430)\t0.2526613932687998\n  (0, 1275)\t0.2203898301461441\n  (0, 1018)\t0.1859624472943375\n  (0, 777)\t0.3111531299592315\n  (0, 542)\t0.27424895294317087\n  (0, 519)\t0.3111531299592315\n  (0, 367)\t0.2895655702848604\n  (0, 353)\t0.27424895294317087\n  (0, 188)\t0.2895655702848604\n  (1, 2370)\t0.27239006157899853\n  (1, 2352)\t0.16998024322970665\n  (1, 2274)\t0.27239006157899853\n  (1, 2209)\t0.2534918531315608\n  (1, 2179)\t0.06873570349770408\n  (1, 2145)\t0.17750595768240215\n  (1, 2059)\t0.2534918531315608\n  (1, 1878)\t0.20777666012458207\n  (1, 1527)\t0.2400833608517903\n  :\t:\n  (251, 213)\t0.2258960960697029\n  (251, 172)\t0.19910379120783106\n  (251, 149)\t0.1431758503772228\n  (251, 128)\t0.06424678765188171\n  (251, 16)\t0.2258960960697029\n  (252, 2358)\t0.13169283812457167\n  (252, 2145)\t0.06221410434424168\n  (252, 2144)\t0.1408369866728635\n  (252, 2127)\t0.28641016788402085\n  (252, 1932)\t0.28641016788402085\n  (252, 1908)\t0.22501513606564907\n  (252, 1778)\t0.28641016788402085\n  (252, 1609)\t0.2665392554771521\n  (252, 1513)\t0.2264335101482024\n  (252, 1502)\t0.21847106962602522\n  (252, 1500)\t0.28641016788402085\n  (252, 1453)\t0.23256970634815435\n  (252, 1450)\t0.15707603780765347\n  (252, 1260)\t0.16671635690867456\n  (252, 1219)\t0.25244061875502305\n  (252, 996)\t0.14614028557237252\n  (252, 733)\t0.22501513606564907\n  (252, 508)\t0.1876644049838756\n  (252, 375)\t0.22501513606564907\n  (252, 255)\t0.28641016788402085\n      10  100th   14  150   16  1917  1920s  1930s  1936  1940  ...  year  \\\n0    0.0    0.0  0.0  0.0  0.0   0.0    0.0    0.0   0.0   0.0  ...   0.0   \n1    0.0    0.0  0.0  0.0  0.0   0.0    0.0    0.0   0.0   0.0  ...   0.0   \n2    0.0    0.0  0.0  0.0  0.0   0.0    0.0    0.0   0.0   0.0  ...   0.0   \n3    0.0    0.0  0.0  0.0  0.0   0.0    0.0    0.0   0.0   0.0  ...   0.0   \n4    0.0    0.0  0.0  0.0  0.0   0.0    0.0    0.0   0.0   0.0  ...   0.0   \n..   ...    ...  ...  ...  ...   ...    ...    ...   ...   ...  ...   ...   \n248  0.0    0.0  0.0  0.0  0.0   0.0    0.0    0.0   0.0   0.0  ...   0.0   \n249  0.0    0.0  0.0  0.0  0.0   0.0    0.0    0.0   0.0   0.0  ...   0.0   \n250  0.0    0.0  0.0  0.0  0.0   0.0    0.0    0.0   0.0   0.0  ...   0.0   \n251  0.0    0.0  0.0  0.0  0.0   0.0    0.0    0.0   0.0   0.0  ...   0.0   \n252  0.0    0.0  0.0  0.0  0.0   0.0    0.0    0.0   0.0   0.0  ...   0.0   \n\n     yearly  years  yet  york  you     young  yuma  zack    zodiac  \n0       0.0    0.0  0.0   0.0  0.0  0.000000   0.0   0.0  0.000000  \n1       0.0    0.0  0.0   0.0  0.0  0.000000   0.0   0.0  0.000000  \n2       0.0    0.0  0.0   0.0  0.0  0.000000   0.0   0.0  0.000000  \n3       0.0    0.0  0.0   0.0  0.0  0.000000   0.0   0.0  0.219634  \n4       0.0    0.0  0.0   0.0  0.0  0.000000   0.0   0.0  0.000000  \n..      ...    ...  ...   ...  ...       ...   ...   ...       ...  \n248     0.0    0.0  0.0   0.0  0.0  0.166482   0.0   0.0  0.000000  \n249     0.0    0.0  0.0   0.0  0.0  0.000000   0.0   0.0  0.000000  \n250     0.0    0.0  0.0   0.0  0.0  0.000000   0.0   0.0  0.000000  \n251     0.0    0.0  0.0   0.0  0.0  0.000000   0.0   0.0  0.000000  \n252     0.0    0.0  0.0   0.0  0.0  0.000000   0.0   0.0  0.000000  \n\n[253 rows x 2407 columns]\n"
     ]
    }
   ],
   "source": [
    "test = Tfidf(variables=['Plot'])\n",
    "test.fit(X_train)\n",
    "j = test.transform(X_train)"
   ]
  },
  {
   "cell_type": "code",
   "execution_count": 70,
   "metadata": {},
   "outputs": [],
   "source": [
    "from xgboost import XGBRegressor\n",
    "\n",
    "params = {\"n_estimators\": [50, 100, 150, 200, 300, 500, 750, 1000],\n",
    "          \"max_features\": ['auto', 'sqrt', 'log2'],\n",
    "          \"max_depth\": [3, 4, 5],\n",
    "          \"min_child_weight\": [1, 2, 5, 10],\n",
    "          \"gamma\": [0.5, 1, 1.5, 2, 5],\n",
    "          \"subsample\": [0.8, 1.0, 1.2],\n",
    "          \"colsample_bytree\": [0.6, 0.8, 1.0]\n",
    "          }\n",
    "\n",
    "xgb_model = XGBRegressor(n_estimators=1000,\n",
    "                         learning_rate=0.05,\n",
    "                         n_jobs=-2)\n",
    "\n",
    "grid = GridSearchCV(xgb_model, \n",
    "                    param_grid=params,\n",
    "                    scoring=\"r2\",\n",
    "                    verbose=2,\n",
    "                    n_jobs = -3)\n",
    "\n",
    "#xgb_pipeline = Pipeline(steps=[\n",
    "#    ('preprocessor', preprocessor),\n",
    "#    ('model', xgb_model)\n",
    "#])\n",
    "\n",
    "grid_pipeline = Pipeline(steps=[\n",
    "    ('preprocessor', preprocessor),\n",
    "    ('model', grid)\n",
    "])"
   ]
  },
  {
   "cell_type": "code",
   "execution_count": 71,
   "metadata": {},
   "outputs": [],
   "source": [
    "new_search = False\n",
    "\n",
    "if new_search:\n",
    "    grid_pipeline.fit(X_train, y_train)\n",
    "    good_boys = grid.best_params_\n",
    "else:\n",
    "    #no nlp:\n",
    "    #good_boys = {'colsample_bytree': 0.6, 'gamma': 1.5, 'max_depth': 3, 'max_features': 'auto', 'min_child_weight': 1, 'n_estimators': 100, 'subsample': 1.0}\n",
    "    # nlp: \n",
    "    good_boys = {'colsample_bytree': 0.6, 'gamma': 5, 'max_depth': 3, 'max_features': 'auto', 'min_child_weight': 1, 'n_estimators': 500, 'subsample': 0.8}\n",
    "    # actual numbers recommend only 50 estimators"
   ]
  },
  {
   "cell_type": "code",
   "execution_count": 72,
   "metadata": {},
   "outputs": [
    {
     "output_type": "stream",
     "name": "stdout",
     "text": [
      "{'colsample_bytree': 0.6, 'gamma': 5, 'max_depth': 3, 'max_features': 'auto', 'min_child_weight': 1, 'n_estimators': 500, 'subsample': 0.8}\n"
     ]
    }
   ],
   "source": [
    "print(good_boys)"
   ]
  },
  {
   "cell_type": "code",
   "execution_count": 73,
   "metadata": {},
   "outputs": [],
   "source": [
    "good_boys = {'colsample_bytree': 0.6, 'gamma': 5, 'max_depth': 3, 'max_features': 'auto', 'min_child_weight': 1, 'n_estimators': 500, 'subsample': 0.8}\n",
    "\n",
    "xgb_model = XGBRegressor(n_estimators=good_boys['n_estimators'],\n",
    "                         learning_rate=0.05,\n",
    "                         colsample_bytree=good_boys['colsample_bytree'],\n",
    "                         gamma=good_boys['gamma'],\n",
    "                         max_depth=good_boys['max_depth'],\n",
    "                         max_features=good_boys['max_features'],\n",
    "                         min_child_weight=good_boys['min_child_weight'],\n",
    "                         subsample=good_boys['subsample'],\n",
    "                         n_jobs=-2)\n",
    "\n",
    "xgb_pipeline = Pipeline(steps=[\n",
    "    ('preprocessor', preprocessor),\n",
    "    ('model', xgb_model)\n",
    "])"
   ]
  },
  {
   "cell_type": "code",
   "execution_count": 74,
   "metadata": {
    "tags": []
   },
   "outputs": [
    {
     "output_type": "stream",
     "name": "stdout",
     "text": [
      "[16:26:26] WARNING: ../src/learner.cc:573: \n",
      "Parameters: { \"max_features\" } might not be used.\n",
      "\n",
      "  This may not be accurate due to some parameters are only used in language bindings but\n",
      "  passed down to XGBoost core.  Or some parameters are not used but slip through this\n",
      "  verification. Please open an issue if you find above cases.\n",
      "\n",
      "\n",
      "[0]\tvalidation_0-rmse:2.62745\n",
      "[1]\tvalidation_0-rmse:2.58613\n",
      "[2]\tvalidation_0-rmse:2.56036\n",
      "[3]\tvalidation_0-rmse:2.52215\n",
      "[4]\tvalidation_0-rmse:2.50065\n",
      "[5]\tvalidation_0-rmse:2.48481\n",
      "[6]\tvalidation_0-rmse:2.47335\n",
      "[7]\tvalidation_0-rmse:2.45816\n",
      "[8]\tvalidation_0-rmse:2.43705\n",
      "[9]\tvalidation_0-rmse:2.41645\n",
      "[10]\tvalidation_0-rmse:2.41086\n",
      "[11]\tvalidation_0-rmse:2.41160\n",
      "[12]\tvalidation_0-rmse:2.39807\n",
      "[13]\tvalidation_0-rmse:2.39336\n",
      "[14]\tvalidation_0-rmse:2.38149\n",
      "[15]\tvalidation_0-rmse:2.38133\n",
      "[16]\tvalidation_0-rmse:2.37669\n",
      "[17]\tvalidation_0-rmse:2.37805\n",
      "[18]\tvalidation_0-rmse:2.38098\n",
      "[19]\tvalidation_0-rmse:2.38453\n",
      "[20]\tvalidation_0-rmse:2.37707\n",
      "[21]\tvalidation_0-rmse:2.37087\n",
      "[22]\tvalidation_0-rmse:2.37380\n",
      "[23]\tvalidation_0-rmse:2.36721\n",
      "[24]\tvalidation_0-rmse:2.36797\n",
      "[25]\tvalidation_0-rmse:2.36170\n",
      "[26]\tvalidation_0-rmse:2.36387\n",
      "[27]\tvalidation_0-rmse:2.35986\n",
      "[28]\tvalidation_0-rmse:2.35381\n",
      "[29]\tvalidation_0-rmse:2.35573\n",
      "[30]\tvalidation_0-rmse:2.35874\n",
      "[31]\tvalidation_0-rmse:2.35872\n",
      "[32]\tvalidation_0-rmse:2.35604\n",
      "[33]\tvalidation_0-rmse:2.35785\n",
      "[34]\tvalidation_0-rmse:2.36016\n",
      "[35]\tvalidation_0-rmse:2.35728\n",
      "[36]\tvalidation_0-rmse:2.35729\n",
      "[37]\tvalidation_0-rmse:2.35856\n",
      "[38]\tvalidation_0-rmse:2.36219\n",
      "[39]\tvalidation_0-rmse:2.36621\n",
      "[40]\tvalidation_0-rmse:2.36871\n",
      "[41]\tvalidation_0-rmse:2.36566\n",
      "[42]\tvalidation_0-rmse:2.36403\n",
      "[43]\tvalidation_0-rmse:2.36565\n",
      "[44]\tvalidation_0-rmse:2.36954\n",
      "[45]\tvalidation_0-rmse:2.37403\n",
      "[46]\tvalidation_0-rmse:2.37175\n",
      "[47]\tvalidation_0-rmse:2.36905\n",
      "[48]\tvalidation_0-rmse:2.36972\n",
      "[49]\tvalidation_0-rmse:2.38009\n",
      "[50]\tvalidation_0-rmse:2.37912\n",
      "[51]\tvalidation_0-rmse:2.38296\n",
      "[52]\tvalidation_0-rmse:2.38361\n",
      "[53]\tvalidation_0-rmse:2.38403\n",
      "[54]\tvalidation_0-rmse:2.38650\n",
      "[55]\tvalidation_0-rmse:2.38586\n",
      "[56]\tvalidation_0-rmse:2.38613\n",
      "[57]\tvalidation_0-rmse:2.38626\n",
      "[58]\tvalidation_0-rmse:2.38381\n",
      "[59]\tvalidation_0-rmse:2.38132\n",
      "[60]\tvalidation_0-rmse:2.38189\n",
      "[61]\tvalidation_0-rmse:2.38438\n",
      "[62]\tvalidation_0-rmse:2.38575\n",
      "[63]\tvalidation_0-rmse:2.38460\n",
      "[64]\tvalidation_0-rmse:2.38282\n",
      "[65]\tvalidation_0-rmse:2.38455\n",
      "[66]\tvalidation_0-rmse:2.38466\n",
      "[67]\tvalidation_0-rmse:2.38442\n",
      "[68]\tvalidation_0-rmse:2.38715\n",
      "[69]\tvalidation_0-rmse:2.38962\n",
      "[70]\tvalidation_0-rmse:2.39124\n",
      "[71]\tvalidation_0-rmse:2.38974\n",
      "[72]\tvalidation_0-rmse:2.38994\n",
      "[73]\tvalidation_0-rmse:2.38942\n",
      "[74]\tvalidation_0-rmse:2.38647\n",
      "[75]\tvalidation_0-rmse:2.39017\n",
      "[76]\tvalidation_0-rmse:2.39031\n",
      "[77]\tvalidation_0-rmse:2.38999\n",
      "MAE: 1.8425758496584261\n",
      "MSE: 5.540433268649788\n"
     ]
    }
   ],
   "source": [
    "preprocessor.fit(X_train, y_train)\n",
    "\n",
    "X_train_xfm = preprocessor.fit_transform(X_train)\n",
    "X_val_xfm = preprocessor.transform(X_val)\n",
    "\n",
    "xgb_pipeline.fit(X_train, y_train,\n",
    "                model__early_stopping_rounds=50,\n",
    "                model__eval_set=[(X_val_xfm, y_val)])\n",
    "\n",
    "preds = xgb_pipeline.predict(X_val)\n",
    "\n",
    "score = mean_absolute_error(preds, y_val)\n",
    "print(\"MAE: \" + str(score))\n",
    "\n",
    "score2 = mean_squared_error(preds, y_val)\n",
    "print(\"MSE: \" + str(score2))"
   ]
  },
  {
   "cell_type": "code",
   "execution_count": 75,
   "metadata": {},
   "outputs": [
    {
     "output_type": "stream",
     "name": "stdout",
     "text": [
      "0      1\n1      3\n2      3\n3      3\n4      1\n      ..\n333    0\n334    2\n335    3\n336    5\n337    1\nName: True Rating, Length: 338, dtype: int64\n"
     ]
    }
   ],
   "source": [
    "print(new_df['True Rating'])"
   ]
  },
  {
   "cell_type": "code",
   "execution_count": 76,
   "metadata": {},
   "outputs": [
    {
     "output_type": "execute_result",
     "data": {
      "text/plain": [
       "<AxesSubplot:xlabel='True Rating', ylabel='Count'>"
      ]
     },
     "metadata": {},
     "execution_count": 76
    },
    {
     "output_type": "display_data",
     "data": {
      "text/plain": "<Figure size 432x288 with 1 Axes>",
      "image/svg+xml": "<?xml version=\"1.0\" encoding=\"utf-8\" standalone=\"no\"?>\n<!DOCTYPE svg PUBLIC \"-//W3C//DTD SVG 1.1//EN\"\n  \"http://www.w3.org/Graphics/SVG/1.1/DTD/svg11.dtd\">\n<svg height=\"262.19625pt\" version=\"1.1\" viewBox=\"0 0 388.965625 262.19625\" width=\"388.965625pt\" xmlns=\"http://www.w3.org/2000/svg\" xmlns:xlink=\"http://www.w3.org/1999/xlink\">\n <metadata>\n  <rdf:RDF xmlns:cc=\"http://creativecommons.org/ns#\" xmlns:dc=\"http://purl.org/dc/elements/1.1/\" xmlns:rdf=\"http://www.w3.org/1999/02/22-rdf-syntax-ns#\">\n   <cc:Work>\n    <dc:type rdf:resource=\"http://purl.org/dc/dcmitype/StillImage\"/>\n    <dc:date>2021-06-01T16:26:28.080625</dc:date>\n    <dc:format>image/svg+xml</dc:format>\n    <dc:creator>\n     <cc:Agent>\n      <dc:title>Matplotlib v3.4.2, https://matplotlib.org/</dc:title>\n     </cc:Agent>\n    </dc:creator>\n   </cc:Work>\n  </rdf:RDF>\n </metadata>\n <defs>\n  <style type=\"text/css\">*{stroke-linecap:butt;stroke-linejoin:round;}</style>\n </defs>\n <g id=\"figure_1\">\n  <g id=\"patch_1\">\n   <path d=\"M 0 262.19625 \nL 388.965625 262.19625 \nL 388.965625 0 \nL 0 0 \nz\n\" style=\"fill:none;\"/>\n  </g>\n  <g id=\"axes_1\">\n   <g id=\"patch_2\">\n    <path d=\"M 46.965625 224.64 \nL 381.765625 224.64 \nL 381.765625 7.2 \nL 46.965625 7.2 \nz\n\" style=\"fill:#ffffff;\"/>\n   </g>\n   <g id=\"patch_3\">\n    <path clip-path=\"url(#pd863d40d09)\" d=\"M 62.183807 224.64 \nL 163.638352 224.64 \nL 163.638352 168.462492 \nL 62.183807 168.462492 \nz\n\" style=\"fill:#1f77b4;fill-opacity:0.75;stroke:#000000;stroke-linejoin:miter;\"/>\n   </g>\n   <g id=\"patch_4\">\n    <path clip-path=\"url(#pd863d40d09)\" d=\"M 163.638352 224.64 \nL 265.092898 224.64 \nL 265.092898 115.589544 \nL 163.638352 115.589544 \nz\n\" style=\"fill:#1f77b4;fill-opacity:0.75;stroke:#000000;stroke-linejoin:miter;\"/>\n   </g>\n   <g id=\"patch_5\">\n    <path clip-path=\"url(#pd863d40d09)\" d=\"M 265.092898 224.64 \nL 366.547443 224.64 \nL 366.547443 17.554286 \nL 265.092898 17.554286 \nz\n\" style=\"fill:#1f77b4;fill-opacity:0.75;stroke:#000000;stroke-linejoin:miter;\"/>\n   </g>\n   <g id=\"matplotlib.axis_1\">\n    <g id=\"xtick_1\">\n     <g id=\"line2d_1\">\n      <defs>\n       <path d=\"M 0 0 \nL 0 3.5 \n\" id=\"m14e4d5b82e\" style=\"stroke:#000000;stroke-width:0.8;\"/>\n      </defs>\n      <g>\n       <use style=\"stroke:#000000;stroke-width:0.8;\" x=\"92.62017\" xlink:href=\"#m14e4d5b82e\" y=\"224.64\"/>\n      </g>\n     </g>\n     <g id=\"text_1\">\n      <!-- −4 -->\n      <g transform=\"translate(85.249077 239.238437)scale(0.1 -0.1)\">\n       <defs>\n        <path d=\"M 678 2272 \nL 4684 2272 \nL 4684 1741 \nL 678 1741 \nL 678 2272 \nz\n\" id=\"DejaVuSans-2212\" transform=\"scale(0.015625)\"/>\n        <path d=\"M 2419 4116 \nL 825 1625 \nL 2419 1625 \nL 2419 4116 \nz\nM 2253 4666 \nL 3047 4666 \nL 3047 1625 \nL 3713 1625 \nL 3713 1100 \nL 3047 1100 \nL 3047 0 \nL 2419 0 \nL 2419 1100 \nL 313 1100 \nL 313 1709 \nL 2253 4666 \nz\n\" id=\"DejaVuSans-34\" transform=\"scale(0.015625)\"/>\n       </defs>\n       <use xlink:href=\"#DejaVuSans-2212\"/>\n       <use x=\"83.789062\" xlink:href=\"#DejaVuSans-34\"/>\n      </g>\n     </g>\n    </g>\n    <g id=\"xtick_2\">\n     <g id=\"line2d_2\">\n      <g>\n       <use style=\"stroke:#000000;stroke-width:0.8;\" x=\"153.492898\" xlink:href=\"#m14e4d5b82e\" y=\"224.64\"/>\n      </g>\n     </g>\n     <g id=\"text_2\">\n      <!-- −2 -->\n      <g transform=\"translate(146.121804 239.238437)scale(0.1 -0.1)\">\n       <defs>\n        <path d=\"M 1228 531 \nL 3431 531 \nL 3431 0 \nL 469 0 \nL 469 531 \nQ 828 903 1448 1529 \nQ 2069 2156 2228 2338 \nQ 2531 2678 2651 2914 \nQ 2772 3150 2772 3378 \nQ 2772 3750 2511 3984 \nQ 2250 4219 1831 4219 \nQ 1534 4219 1204 4116 \nQ 875 4013 500 3803 \nL 500 4441 \nQ 881 4594 1212 4672 \nQ 1544 4750 1819 4750 \nQ 2544 4750 2975 4387 \nQ 3406 4025 3406 3419 \nQ 3406 3131 3298 2873 \nQ 3191 2616 2906 2266 \nQ 2828 2175 2409 1742 \nQ 1991 1309 1228 531 \nz\n\" id=\"DejaVuSans-32\" transform=\"scale(0.015625)\"/>\n       </defs>\n       <use xlink:href=\"#DejaVuSans-2212\"/>\n       <use x=\"83.789062\" xlink:href=\"#DejaVuSans-32\"/>\n      </g>\n     </g>\n    </g>\n    <g id=\"xtick_3\">\n     <g id=\"line2d_3\">\n      <g>\n       <use style=\"stroke:#000000;stroke-width:0.8;\" x=\"214.365625\" xlink:href=\"#m14e4d5b82e\" y=\"224.64\"/>\n      </g>\n     </g>\n     <g id=\"text_3\">\n      <!-- 0 -->\n      <g transform=\"translate(211.184375 239.238437)scale(0.1 -0.1)\">\n       <defs>\n        <path d=\"M 2034 4250 \nQ 1547 4250 1301 3770 \nQ 1056 3291 1056 2328 \nQ 1056 1369 1301 889 \nQ 1547 409 2034 409 \nQ 2525 409 2770 889 \nQ 3016 1369 3016 2328 \nQ 3016 3291 2770 3770 \nQ 2525 4250 2034 4250 \nz\nM 2034 4750 \nQ 2819 4750 3233 4129 \nQ 3647 3509 3647 2328 \nQ 3647 1150 3233 529 \nQ 2819 -91 2034 -91 \nQ 1250 -91 836 529 \nQ 422 1150 422 2328 \nQ 422 3509 836 4129 \nQ 1250 4750 2034 4750 \nz\n\" id=\"DejaVuSans-30\" transform=\"scale(0.015625)\"/>\n       </defs>\n       <use xlink:href=\"#DejaVuSans-30\"/>\n      </g>\n     </g>\n    </g>\n    <g id=\"xtick_4\">\n     <g id=\"line2d_4\">\n      <g>\n       <use style=\"stroke:#000000;stroke-width:0.8;\" x=\"275.238352\" xlink:href=\"#m14e4d5b82e\" y=\"224.64\"/>\n      </g>\n     </g>\n     <g id=\"text_4\">\n      <!-- 2 -->\n      <g transform=\"translate(272.057102 239.238437)scale(0.1 -0.1)\">\n       <use xlink:href=\"#DejaVuSans-32\"/>\n      </g>\n     </g>\n    </g>\n    <g id=\"xtick_5\">\n     <g id=\"line2d_5\">\n      <g>\n       <use style=\"stroke:#000000;stroke-width:0.8;\" x=\"336.11108\" xlink:href=\"#m14e4d5b82e\" y=\"224.64\"/>\n      </g>\n     </g>\n     <g id=\"text_5\">\n      <!-- 4 -->\n      <g transform=\"translate(332.92983 239.238437)scale(0.1 -0.1)\">\n       <use xlink:href=\"#DejaVuSans-34\"/>\n      </g>\n     </g>\n    </g>\n    <g id=\"text_6\">\n     <!-- True Rating -->\n     <g transform=\"translate(186.041406 252.916562)scale(0.1 -0.1)\">\n      <defs>\n       <path d=\"M -19 4666 \nL 3928 4666 \nL 3928 4134 \nL 2272 4134 \nL 2272 0 \nL 1638 0 \nL 1638 4134 \nL -19 4134 \nL -19 4666 \nz\n\" id=\"DejaVuSans-54\" transform=\"scale(0.015625)\"/>\n       <path d=\"M 2631 2963 \nQ 2534 3019 2420 3045 \nQ 2306 3072 2169 3072 \nQ 1681 3072 1420 2755 \nQ 1159 2438 1159 1844 \nL 1159 0 \nL 581 0 \nL 581 3500 \nL 1159 3500 \nL 1159 2956 \nQ 1341 3275 1631 3429 \nQ 1922 3584 2338 3584 \nQ 2397 3584 2469 3576 \nQ 2541 3569 2628 3553 \nL 2631 2963 \nz\n\" id=\"DejaVuSans-72\" transform=\"scale(0.015625)\"/>\n       <path d=\"M 544 1381 \nL 544 3500 \nL 1119 3500 \nL 1119 1403 \nQ 1119 906 1312 657 \nQ 1506 409 1894 409 \nQ 2359 409 2629 706 \nQ 2900 1003 2900 1516 \nL 2900 3500 \nL 3475 3500 \nL 3475 0 \nL 2900 0 \nL 2900 538 \nQ 2691 219 2414 64 \nQ 2138 -91 1772 -91 \nQ 1169 -91 856 284 \nQ 544 659 544 1381 \nz\nM 1991 3584 \nL 1991 3584 \nz\n\" id=\"DejaVuSans-75\" transform=\"scale(0.015625)\"/>\n       <path d=\"M 3597 1894 \nL 3597 1613 \nL 953 1613 \nQ 991 1019 1311 708 \nQ 1631 397 2203 397 \nQ 2534 397 2845 478 \nQ 3156 559 3463 722 \nL 3463 178 \nQ 3153 47 2828 -22 \nQ 2503 -91 2169 -91 \nQ 1331 -91 842 396 \nQ 353 884 353 1716 \nQ 353 2575 817 3079 \nQ 1281 3584 2069 3584 \nQ 2775 3584 3186 3129 \nQ 3597 2675 3597 1894 \nz\nM 3022 2063 \nQ 3016 2534 2758 2815 \nQ 2500 3097 2075 3097 \nQ 1594 3097 1305 2825 \nQ 1016 2553 972 2059 \nL 3022 2063 \nz\n\" id=\"DejaVuSans-65\" transform=\"scale(0.015625)\"/>\n       <path id=\"DejaVuSans-20\" transform=\"scale(0.015625)\"/>\n       <path d=\"M 2841 2188 \nQ 3044 2119 3236 1894 \nQ 3428 1669 3622 1275 \nL 4263 0 \nL 3584 0 \nL 2988 1197 \nQ 2756 1666 2539 1819 \nQ 2322 1972 1947 1972 \nL 1259 1972 \nL 1259 0 \nL 628 0 \nL 628 4666 \nL 2053 4666 \nQ 2853 4666 3247 4331 \nQ 3641 3997 3641 3322 \nQ 3641 2881 3436 2590 \nQ 3231 2300 2841 2188 \nz\nM 1259 4147 \nL 1259 2491 \nL 2053 2491 \nQ 2509 2491 2742 2702 \nQ 2975 2913 2975 3322 \nQ 2975 3731 2742 3939 \nQ 2509 4147 2053 4147 \nL 1259 4147 \nz\n\" id=\"DejaVuSans-52\" transform=\"scale(0.015625)\"/>\n       <path d=\"M 2194 1759 \nQ 1497 1759 1228 1600 \nQ 959 1441 959 1056 \nQ 959 750 1161 570 \nQ 1363 391 1709 391 \nQ 2188 391 2477 730 \nQ 2766 1069 2766 1631 \nL 2766 1759 \nL 2194 1759 \nz\nM 3341 1997 \nL 3341 0 \nL 2766 0 \nL 2766 531 \nQ 2569 213 2275 61 \nQ 1981 -91 1556 -91 \nQ 1019 -91 701 211 \nQ 384 513 384 1019 \nQ 384 1609 779 1909 \nQ 1175 2209 1959 2209 \nL 2766 2209 \nL 2766 2266 \nQ 2766 2663 2505 2880 \nQ 2244 3097 1772 3097 \nQ 1472 3097 1187 3025 \nQ 903 2953 641 2809 \nL 641 3341 \nQ 956 3463 1253 3523 \nQ 1550 3584 1831 3584 \nQ 2591 3584 2966 3190 \nQ 3341 2797 3341 1997 \nz\n\" id=\"DejaVuSans-61\" transform=\"scale(0.015625)\"/>\n       <path d=\"M 1172 4494 \nL 1172 3500 \nL 2356 3500 \nL 2356 3053 \nL 1172 3053 \nL 1172 1153 \nQ 1172 725 1289 603 \nQ 1406 481 1766 481 \nL 2356 481 \nL 2356 0 \nL 1766 0 \nQ 1100 0 847 248 \nQ 594 497 594 1153 \nL 594 3053 \nL 172 3053 \nL 172 3500 \nL 594 3500 \nL 594 4494 \nL 1172 4494 \nz\n\" id=\"DejaVuSans-74\" transform=\"scale(0.015625)\"/>\n       <path d=\"M 603 3500 \nL 1178 3500 \nL 1178 0 \nL 603 0 \nL 603 3500 \nz\nM 603 4863 \nL 1178 4863 \nL 1178 4134 \nL 603 4134 \nL 603 4863 \nz\n\" id=\"DejaVuSans-69\" transform=\"scale(0.015625)\"/>\n       <path d=\"M 3513 2113 \nL 3513 0 \nL 2938 0 \nL 2938 2094 \nQ 2938 2591 2744 2837 \nQ 2550 3084 2163 3084 \nQ 1697 3084 1428 2787 \nQ 1159 2491 1159 1978 \nL 1159 0 \nL 581 0 \nL 581 3500 \nL 1159 3500 \nL 1159 2956 \nQ 1366 3272 1645 3428 \nQ 1925 3584 2291 3584 \nQ 2894 3584 3203 3211 \nQ 3513 2838 3513 2113 \nz\n\" id=\"DejaVuSans-6e\" transform=\"scale(0.015625)\"/>\n       <path d=\"M 2906 1791 \nQ 2906 2416 2648 2759 \nQ 2391 3103 1925 3103 \nQ 1463 3103 1205 2759 \nQ 947 2416 947 1791 \nQ 947 1169 1205 825 \nQ 1463 481 1925 481 \nQ 2391 481 2648 825 \nQ 2906 1169 2906 1791 \nz\nM 3481 434 \nQ 3481 -459 3084 -895 \nQ 2688 -1331 1869 -1331 \nQ 1566 -1331 1297 -1286 \nQ 1028 -1241 775 -1147 \nL 775 -588 \nQ 1028 -725 1275 -790 \nQ 1522 -856 1778 -856 \nQ 2344 -856 2625 -561 \nQ 2906 -266 2906 331 \nL 2906 616 \nQ 2728 306 2450 153 \nQ 2172 0 1784 0 \nQ 1141 0 747 490 \nQ 353 981 353 1791 \nQ 353 2603 747 3093 \nQ 1141 3584 1784 3584 \nQ 2172 3584 2450 3431 \nQ 2728 3278 2906 2969 \nL 2906 3500 \nL 3481 3500 \nL 3481 434 \nz\n\" id=\"DejaVuSans-67\" transform=\"scale(0.015625)\"/>\n      </defs>\n      <use xlink:href=\"#DejaVuSans-54\"/>\n      <use x=\"46.333984\" xlink:href=\"#DejaVuSans-72\"/>\n      <use x=\"87.447266\" xlink:href=\"#DejaVuSans-75\"/>\n      <use x=\"150.826172\" xlink:href=\"#DejaVuSans-65\"/>\n      <use x=\"212.349609\" xlink:href=\"#DejaVuSans-20\"/>\n      <use x=\"244.136719\" xlink:href=\"#DejaVuSans-52\"/>\n      <use x=\"311.369141\" xlink:href=\"#DejaVuSans-61\"/>\n      <use x=\"372.648438\" xlink:href=\"#DejaVuSans-74\"/>\n      <use x=\"411.857422\" xlink:href=\"#DejaVuSans-69\"/>\n      <use x=\"439.640625\" xlink:href=\"#DejaVuSans-6e\"/>\n      <use x=\"503.019531\" xlink:href=\"#DejaVuSans-67\"/>\n     </g>\n    </g>\n   </g>\n   <g id=\"matplotlib.axis_2\">\n    <g id=\"ytick_1\">\n     <g id=\"line2d_6\">\n      <defs>\n       <path d=\"M 0 0 \nL -3.5 0 \n\" id=\"me94bb22880\" style=\"stroke:#000000;stroke-width:0.8;\"/>\n      </defs>\n      <g>\n       <use style=\"stroke:#000000;stroke-width:0.8;\" x=\"46.965625\" xlink:href=\"#me94bb22880\" y=\"224.64\"/>\n      </g>\n     </g>\n     <g id=\"text_7\">\n      <!-- 0 -->\n      <g transform=\"translate(33.603125 228.439219)scale(0.1 -0.1)\">\n       <use xlink:href=\"#DejaVuSans-30\"/>\n      </g>\n     </g>\n    </g>\n    <g id=\"ytick_2\">\n     <g id=\"line2d_7\">\n      <g>\n       <use style=\"stroke:#000000;stroke-width:0.8;\" x=\"46.965625\" xlink:href=\"#me94bb22880\" y=\"197.102006\"/>\n      </g>\n     </g>\n     <g id=\"text_8\">\n      <!-- 25 -->\n      <g transform=\"translate(27.240625 200.901225)scale(0.1 -0.1)\">\n       <defs>\n        <path d=\"M 691 4666 \nL 3169 4666 \nL 3169 4134 \nL 1269 4134 \nL 1269 2991 \nQ 1406 3038 1543 3061 \nQ 1681 3084 1819 3084 \nQ 2600 3084 3056 2656 \nQ 3513 2228 3513 1497 \nQ 3513 744 3044 326 \nQ 2575 -91 1722 -91 \nQ 1428 -91 1123 -41 \nQ 819 9 494 109 \nL 494 744 \nQ 775 591 1075 516 \nQ 1375 441 1709 441 \nQ 2250 441 2565 725 \nQ 2881 1009 2881 1497 \nQ 2881 1984 2565 2268 \nQ 2250 2553 1709 2553 \nQ 1456 2553 1204 2497 \nQ 953 2441 691 2322 \nL 691 4666 \nz\n\" id=\"DejaVuSans-35\" transform=\"scale(0.015625)\"/>\n       </defs>\n       <use xlink:href=\"#DejaVuSans-32\"/>\n       <use x=\"63.623047\" xlink:href=\"#DejaVuSans-35\"/>\n      </g>\n     </g>\n    </g>\n    <g id=\"ytick_3\">\n     <g id=\"line2d_8\">\n      <g>\n       <use style=\"stroke:#000000;stroke-width:0.8;\" x=\"46.965625\" xlink:href=\"#me94bb22880\" y=\"169.564012\"/>\n      </g>\n     </g>\n     <g id=\"text_9\">\n      <!-- 50 -->\n      <g transform=\"translate(27.240625 173.363231)scale(0.1 -0.1)\">\n       <use xlink:href=\"#DejaVuSans-35\"/>\n       <use x=\"63.623047\" xlink:href=\"#DejaVuSans-30\"/>\n      </g>\n     </g>\n    </g>\n    <g id=\"ytick_4\">\n     <g id=\"line2d_9\">\n      <g>\n       <use style=\"stroke:#000000;stroke-width:0.8;\" x=\"46.965625\" xlink:href=\"#me94bb22880\" y=\"142.026018\"/>\n      </g>\n     </g>\n     <g id=\"text_10\">\n      <!-- 75 -->\n      <g transform=\"translate(27.240625 145.825237)scale(0.1 -0.1)\">\n       <defs>\n        <path d=\"M 525 4666 \nL 3525 4666 \nL 3525 4397 \nL 1831 0 \nL 1172 0 \nL 2766 4134 \nL 525 4134 \nL 525 4666 \nz\n\" id=\"DejaVuSans-37\" transform=\"scale(0.015625)\"/>\n       </defs>\n       <use xlink:href=\"#DejaVuSans-37\"/>\n       <use x=\"63.623047\" xlink:href=\"#DejaVuSans-35\"/>\n      </g>\n     </g>\n    </g>\n    <g id=\"ytick_5\">\n     <g id=\"line2d_10\">\n      <g>\n       <use style=\"stroke:#000000;stroke-width:0.8;\" x=\"46.965625\" xlink:href=\"#me94bb22880\" y=\"114.488024\"/>\n      </g>\n     </g>\n     <g id=\"text_11\">\n      <!-- 100 -->\n      <g transform=\"translate(20.878125 118.287243)scale(0.1 -0.1)\">\n       <defs>\n        <path d=\"M 794 531 \nL 1825 531 \nL 1825 4091 \nL 703 3866 \nL 703 4441 \nL 1819 4666 \nL 2450 4666 \nL 2450 531 \nL 3481 531 \nL 3481 0 \nL 794 0 \nL 794 531 \nz\n\" id=\"DejaVuSans-31\" transform=\"scale(0.015625)\"/>\n       </defs>\n       <use xlink:href=\"#DejaVuSans-31\"/>\n       <use x=\"63.623047\" xlink:href=\"#DejaVuSans-30\"/>\n       <use x=\"127.246094\" xlink:href=\"#DejaVuSans-30\"/>\n      </g>\n     </g>\n    </g>\n    <g id=\"ytick_6\">\n     <g id=\"line2d_11\">\n      <g>\n       <use style=\"stroke:#000000;stroke-width:0.8;\" x=\"46.965625\" xlink:href=\"#me94bb22880\" y=\"86.95003\"/>\n      </g>\n     </g>\n     <g id=\"text_12\">\n      <!-- 125 -->\n      <g transform=\"translate(20.878125 90.749249)scale(0.1 -0.1)\">\n       <use xlink:href=\"#DejaVuSans-31\"/>\n       <use x=\"63.623047\" xlink:href=\"#DejaVuSans-32\"/>\n       <use x=\"127.246094\" xlink:href=\"#DejaVuSans-35\"/>\n      </g>\n     </g>\n    </g>\n    <g id=\"ytick_7\">\n     <g id=\"line2d_12\">\n      <g>\n       <use style=\"stroke:#000000;stroke-width:0.8;\" x=\"46.965625\" xlink:href=\"#me94bb22880\" y=\"59.412036\"/>\n      </g>\n     </g>\n     <g id=\"text_13\">\n      <!-- 150 -->\n      <g transform=\"translate(20.878125 63.211255)scale(0.1 -0.1)\">\n       <use xlink:href=\"#DejaVuSans-31\"/>\n       <use x=\"63.623047\" xlink:href=\"#DejaVuSans-35\"/>\n       <use x=\"127.246094\" xlink:href=\"#DejaVuSans-30\"/>\n      </g>\n     </g>\n    </g>\n    <g id=\"ytick_8\">\n     <g id=\"line2d_13\">\n      <g>\n       <use style=\"stroke:#000000;stroke-width:0.8;\" x=\"46.965625\" xlink:href=\"#me94bb22880\" y=\"31.874043\"/>\n      </g>\n     </g>\n     <g id=\"text_14\">\n      <!-- 175 -->\n      <g transform=\"translate(20.878125 35.673261)scale(0.1 -0.1)\">\n       <use xlink:href=\"#DejaVuSans-31\"/>\n       <use x=\"63.623047\" xlink:href=\"#DejaVuSans-37\"/>\n       <use x=\"127.246094\" xlink:href=\"#DejaVuSans-35\"/>\n      </g>\n     </g>\n    </g>\n    <g id=\"text_15\">\n     <!-- Count -->\n     <g transform=\"translate(14.798438 130.768437)rotate(-90)scale(0.1 -0.1)\">\n      <defs>\n       <path d=\"M 4122 4306 \nL 4122 3641 \nQ 3803 3938 3442 4084 \nQ 3081 4231 2675 4231 \nQ 1875 4231 1450 3742 \nQ 1025 3253 1025 2328 \nQ 1025 1406 1450 917 \nQ 1875 428 2675 428 \nQ 3081 428 3442 575 \nQ 3803 722 4122 1019 \nL 4122 359 \nQ 3791 134 3420 21 \nQ 3050 -91 2638 -91 \nQ 1578 -91 968 557 \nQ 359 1206 359 2328 \nQ 359 3453 968 4101 \nQ 1578 4750 2638 4750 \nQ 3056 4750 3426 4639 \nQ 3797 4528 4122 4306 \nz\n\" id=\"DejaVuSans-43\" transform=\"scale(0.015625)\"/>\n       <path d=\"M 1959 3097 \nQ 1497 3097 1228 2736 \nQ 959 2375 959 1747 \nQ 959 1119 1226 758 \nQ 1494 397 1959 397 \nQ 2419 397 2687 759 \nQ 2956 1122 2956 1747 \nQ 2956 2369 2687 2733 \nQ 2419 3097 1959 3097 \nz\nM 1959 3584 \nQ 2709 3584 3137 3096 \nQ 3566 2609 3566 1747 \nQ 3566 888 3137 398 \nQ 2709 -91 1959 -91 \nQ 1206 -91 779 398 \nQ 353 888 353 1747 \nQ 353 2609 779 3096 \nQ 1206 3584 1959 3584 \nz\n\" id=\"DejaVuSans-6f\" transform=\"scale(0.015625)\"/>\n      </defs>\n      <use xlink:href=\"#DejaVuSans-43\"/>\n      <use x=\"69.824219\" xlink:href=\"#DejaVuSans-6f\"/>\n      <use x=\"131.005859\" xlink:href=\"#DejaVuSans-75\"/>\n      <use x=\"194.384766\" xlink:href=\"#DejaVuSans-6e\"/>\n      <use x=\"257.763672\" xlink:href=\"#DejaVuSans-74\"/>\n     </g>\n    </g>\n   </g>\n   <g id=\"patch_6\">\n    <path d=\"M 46.965625 224.64 \nL 46.965625 7.2 \n\" style=\"fill:none;stroke:#000000;stroke-linecap:square;stroke-linejoin:miter;stroke-width:0.8;\"/>\n   </g>\n   <g id=\"patch_7\">\n    <path d=\"M 381.765625 224.64 \nL 381.765625 7.2 \n\" style=\"fill:none;stroke:#000000;stroke-linecap:square;stroke-linejoin:miter;stroke-width:0.8;\"/>\n   </g>\n   <g id=\"patch_8\">\n    <path d=\"M 46.965625 224.64 \nL 381.765625 224.64 \n\" style=\"fill:none;stroke:#000000;stroke-linecap:square;stroke-linejoin:miter;stroke-width:0.8;\"/>\n   </g>\n   <g id=\"patch_9\">\n    <path d=\"M 46.965625 7.2 \nL 381.765625 7.2 \n\" style=\"fill:none;stroke:#000000;stroke-linecap:square;stroke-linejoin:miter;stroke-width:0.8;\"/>\n   </g>\n  </g>\n </g>\n <defs>\n  <clipPath id=\"pd863d40d09\">\n   <rect height=\"217.44\" width=\"334.8\" x=\"46.965625\" y=\"7.2\"/>\n  </clipPath>\n </defs>\n</svg>\n",
      "image/png": "[encoded data removed]"
     },
     "metadata": {
      "needs_background": "light"
     }
    }
   ],
   "source": [
    "import seaborn as sns\n",
    "\n",
    "sns.histplot(new_df['True Rating'], bins=3)"
   ]
  }
 ]
}